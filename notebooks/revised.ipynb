{
 "cells": [
  {
   "cell_type": "code",
   "execution_count": null,
   "id": "2045e1c0",
   "metadata": {},
   "outputs": [],
   "source": [
    "import re\n",
    "import io\n",
    "import json\n",
    "import tempfile\n",
    "\n",
    "from copy import copy\n",
    "from collections import Counter\n",
    "from itertools import groupby, product, combinations\n",
    "from zipfile import ZipFile\n",
    "\n",
    "import numpy as np\n",
    "import matplotlib.pyplot as plt\n",
    "\n",
    "from Bio import SeqIO, AlignIO, codonalign\n",
    "from Bio.Align.Applications import MuscleCommandline\n",
    "from Bio.Seq import Seq, MutableSeq"
   ]
  },
  {
   "cell_type": "markdown",
   "id": "3542b0f0",
   "metadata": {},
   "source": [
    "## Introduction"
   ]
  },
  {
   "cell_type": "markdown",
   "id": "41c00ff7",
   "metadata": {},
   "source": [
    "\"Big data era\", getting data is a challenge.\n",
    "NCBI datasets making it easier to get data for addressing a question.\n",
    "Here's a specific example of a problem that can be addressed with big data:\n",
    "\n",
    "Bio problem:\n",
    "- **Our question**: can we detect natural selection by comparing ortholog sequences between species?\n",
    "- Review: the redundant genetic code, synonymous and non-synonymous substitutions (Not frameshift indels)\n",
    "- The molecular clock: synonymous mutations accumulate at a constant rate [FIGURE]\n",
    "- Purifying selection: most non-synonymous mutations are harmful and eliminated by natural selection [FIGURE]\n",
    "- Positive selection: some non-synonymous mutations may improve fitness. These will fix at a faster-than-neutral rate [FIGURE]\n",
    "- **Idea**: we can compare the rates of syn/non-syn substitutions to look for signals of purifying or positive selection"
   ]
  },
  {
   "cell_type": "markdown",
   "id": "34604c62",
   "metadata": {},
   "source": [
    "We will compute the **dN/dS ratio**, that is the ratio of non-synonymous to synonymous substitutions.\n",
    "- Low dN/dS indicates strong purifying selection (meaning the gene is important and well-adapted).\n",
    "- Intermediate -> relaxed purifying selection.\n",
    "- High -> strong positive selection, rapid adaptation\n",
    "[DIAGRAM]"
   ]
  },
  {
   "cell_type": "markdown",
   "id": "0e8c93ab",
   "metadata": {},
   "source": [
    "We will be comparing Drosophila species [PHYLOGENY] with different levels of divergence across a large number of ortholog families to categorize the orthologs by dN/dS."
   ]
  },
  {
   "cell_type": "markdown",
   "id": "e62c8718",
   "metadata": {},
   "source": [
    "## Getting the data"
   ]
  },
  {
   "cell_type": "code",
   "execution_count": null,
   "id": "a68f6fb0",
   "metadata": {},
   "outputs": [],
   "source": [
    "datadir = \"/data/orthologs_with_cds\""
   ]
  },
  {
   "cell_type": "code",
   "execution_count": null,
   "id": "040f69ea",
   "metadata": {},
   "outputs": [],
   "source": [
    "!tree $datadir"
   ]
  },
  {
   "cell_type": "markdown",
   "id": "9b1cd6dc",
   "metadata": {},
   "source": [
    "## Computing dN/dS from sequences"
   ]
  },
  {
   "cell_type": "markdown",
   "id": "1462fb5f",
   "metadata": {},
   "source": [
    "We'll pick a gene and then read its FASTA and data report files into variables:"
   ]
  },
  {
   "cell_type": "markdown",
   "id": "a4dd32ae",
   "metadata": {},
   "source": [
    "We read the fasta files using BioPython's SeqIO module:"
   ]
  },
  {
   "cell_type": "code",
   "execution_count": null,
   "id": "06a25588",
   "metadata": {},
   "outputs": [],
   "source": [
    "def import_fasta(gene_id, datadir):\n",
    "    dataset = f\"{datadir}/{gene_id}.zip\"\n",
    "    fasta_path = \"ncbi_dataset/data/cds.fna\"\n",
    "    with ZipFile(dataset) as zip_file:\n",
    "        with zip_file.open(fasta_path, \"r\") as fasta_file:\n",
    "            records = list(SeqIO.parse(io.TextIOWrapper(fasta_file), \"fasta\"))\n",
    "    return(records)"
   ]
  },
  {
   "cell_type": "code",
   "execution_count": null,
   "id": "97fe606d",
   "metadata": {},
   "outputs": [],
   "source": [
    "gene_id = 12798080\n",
    "records = import_fasta(gene_id, datadir)"
   ]
  },
  {
   "cell_type": "code",
   "execution_count": null,
   "id": "51d53dd2",
   "metadata": {},
   "outputs": [],
   "source": [
    "def get_species(record):\n",
    "    pattern = re.compile(r\"\\[organism=([A-Za-z\\s]+)\\]\")\n",
    "    match = re.search(pattern, record.description)\n",
    "    if match:\n",
    "        return match.groups()[0]\n",
    "    else:\n",
    "        return None"
   ]
  },
  {
   "cell_type": "code",
   "execution_count": null,
   "id": "b6010c6e",
   "metadata": {},
   "outputs": [],
   "source": [
    "for record in records:\n",
    "    print(get_species(record))"
   ]
  },
  {
   "cell_type": "code",
   "execution_count": null,
   "id": "da21fe2f",
   "metadata": {},
   "outputs": [],
   "source": [
    "def longest_record_per_species(records):\n",
    "    return {\n",
    "        species: max(recs, key=lambda r: len(r.seq))\n",
    "        for species, recs in groupby(records, key=get_species)\n",
    "    }"
   ]
  },
  {
   "cell_type": "code",
   "execution_count": null,
   "id": "faca6dbe",
   "metadata": {},
   "outputs": [],
   "source": [
    "dna_records = longest_record_per_species(records)"
   ]
  },
  {
   "cell_type": "code",
   "execution_count": null,
   "id": "5b20e8ba",
   "metadata": {},
   "outputs": [],
   "source": [
    "def translate_record(record):\n",
    "    new_record = copy(record)\n",
    "    new_record.seq = record.seq.translate()\n",
    "    return new_record"
   ]
  },
  {
   "cell_type": "code",
   "execution_count": null,
   "id": "7393a817",
   "metadata": {},
   "outputs": [],
   "source": [
    "protein_records = {spec: translate_record(rec) for spec, rec in dna_records.items()}"
   ]
  },
  {
   "cell_type": "code",
   "execution_count": null,
   "id": "04e115e7",
   "metadata": {},
   "outputs": [],
   "source": [
    "print(protein_records)"
   ]
  },
  {
   "cell_type": "code",
   "execution_count": null,
   "id": "c667aaeb",
   "metadata": {},
   "outputs": [],
   "source": [
    "def align_proteins(protein_records):\n",
    "    muscle_exe = \"muscle\"\n",
    "    with tempfile.NamedTemporaryFile(mode=\"w+t\") as f:\n",
    "        SeqIO.write(protein_records.values(), f, \"fasta\")\n",
    "        f.seek(0)\n",
    "        muscle_cline = MuscleCommandline(muscle_exe, input=f.name)\n",
    "        print(muscle_cline)\n",
    "        stdout, stderr = muscle_cline()\n",
    "    protein_aln = AlignIO.read(StringIO(stdout), \"fasta\")\n",
    "    protein_aln.sort()\n",
    "    return(protein_aln)"
   ]
  },
  {
   "cell_type": "code",
   "execution_count": null,
   "id": "333798bb",
   "metadata": {},
   "outputs": [],
   "source": [
    "protein_aln = align_proteins(protein_records)\n",
    "print(protein_aln)"
   ]
  },
  {
   "cell_type": "code",
   "execution_count": null,
   "id": "ff57b59e",
   "metadata": {},
   "outputs": [],
   "source": [
    "codon_aln = codonalign.build(protein_aln, sorted([rec for (_, rec) in dna_records], key=lambda x: x.id))"
   ]
  },
  {
   "cell_type": "code",
   "execution_count": null,
   "id": "e80cca43",
   "metadata": {},
   "outputs": [],
   "source": [
    "print(codon_aln)"
   ]
  },
  {
   "cell_type": "code",
   "execution_count": null,
   "id": "61450b7d",
   "metadata": {},
   "outputs": [],
   "source": [
    "def number_of_substitutions(alignment) -> float:\n",
    "    sub_matrix = alignment.substitutions\n",
    "    return sub_matrix.sum() - sub_matrix.diagonal().sum()"
   ]
  },
  {
   "cell_type": "code",
   "execution_count": null,
   "id": "9189877f",
   "metadata": {},
   "outputs": [],
   "source": [
    "total_subs = number_of_substitutions(codon_aln)\n",
    "nonsyn_subs = number_of_substitutions(protein_aln)\n",
    "syn_subs = total_subs - nonsyn_subs\n",
    "dnds = nonsyn_subs / syn_subs"
   ]
  },
  {
   "cell_type": "code",
   "execution_count": null,
   "id": "ecb19b64",
   "metadata": {},
   "outputs": [],
   "source": [
    "print(total_subs)\n",
    "print(nonsyn_subs)\n",
    "print(syn_subs)\n",
    "print(dnds)"
   ]
  },
  {
   "cell_type": "code",
   "execution_count": null,
   "id": "53fb7bca",
   "metadata": {},
   "outputs": [],
   "source": [
    "def get_all_species(gene_id, datadir):\n",
    "    records = import_fasta(gene_id, datadir)\n",
    "    dna_records = longest_record_per_species(records)\n",
    "    return set(dna_records.keys())"
   ]
  },
  {
   "cell_type": "code",
   "execution_count": null,
   "id": "59cde9a6",
   "metadata": {},
   "outputs": [],
   "source": [
    "files = !ls {datadir}\n",
    "species = {}\n",
    "for i, f in enumerate(files):\n",
    "    gene_id = f.split(\".\")[0]\n",
    "    print(i, gene_id)\n",
    "    species[gene_id] = get_all_species(gene_id, datadir)\n",
    "    print(species[gene_id])"
   ]
  },
  {
   "cell_type": "code",
   "execution_count": null,
   "id": "98c94034",
   "metadata": {},
   "outputs": [],
   "source": [
    "species_counts = Counter()\n",
    "for gid, sp_set in species.items():\n",
    "    for sp in sp_set:\n",
    "        species_counts[sp] += 1"
   ]
  },
  {
   "cell_type": "code",
   "execution_count": null,
   "id": "36eb4764",
   "metadata": {},
   "outputs": [],
   "source": [
    "print(species_counts)"
   ]
  },
  {
   "cell_type": "code",
   "execution_count": null,
   "id": "4db2537d",
   "metadata": {},
   "outputs": [],
   "source": [
    "def count_substitutions(gene_id, datadir, species1, species2):\n",
    "    records = import_fasta(gene_id, datadir)\n",
    "    longest_records = longest_record_per_species(records)\n",
    "    if species1 in longest_records and species2 in longest_records:\n",
    "        dna_records = {\n",
    "            species1: longest_records[species1],\n",
    "            species2: longest_records[species2],\n",
    "        }\n",
    "    else:\n",
    "        return None\n",
    "    protein_records = {spec: translate_record(rec) for spec, rec in dna_records.items()}\n",
    "    protein_aln = align_proteins(protein_records)\n",
    "    try:\n",
    "        codon_aln = codonalign.build(protein_aln,\n",
    "                                     sorted(dna_records.values(),\n",
    "                                            key=lambda x: x.id))\n",
    "    except RuntimeError as e:\n",
    "        print(e)\n",
    "        return None\n",
    "    total_subs = number_of_substitutions(codon_aln)\n",
    "    nonsyn_subs = number_of_substitutions(protein_aln)\n",
    "    return total_subs, nonsyn_subs"
   ]
  },
  {
   "cell_type": "code",
   "execution_count": null,
   "id": "a4ec6f7c",
   "metadata": {},
   "outputs": [],
   "source": [
    "substitutions = {}\n",
    "focal_species = \"Drosophila melanogaster\"\n",
    "comparison_species = [\"Drosophila pseudoobscura\", \"Drosophila serrata\", \"Drosophila simulans\"]\n",
    "for comp in comparison_species:\n",
    "    print(comp)\n",
    "    substitutions[comp] = {}\n",
    "    for i, f in enumerate(files):\n",
    "        gene_id = f.split(\".\")[0]\n",
    "        print(i, gene_id)\n",
    "        subs = count_substitutions(gene_id, datadir, focal_species, comp)\n",
    "        if subs:\n",
    "            substitutions[comp][gene_id] = subs"
   ]
  },
  {
   "cell_type": "code",
   "execution_count": null,
   "id": "0ab5ff37",
   "metadata": {},
   "outputs": [],
   "source": [
    "for total_subs, nonsyn_subs in substitutions[\"Drosophila simulans\"].values():\n",
    "    plt.loglog(nonsyn_subs, total_subs - nonsyn_subs, '.b', alpha=0.25)\n",
    "    \n",
    "for total_subs, nonsyn_subs in substitutions[\"Drosophila pseudoobscura\"].values():\n",
    "    plt.loglog(nonsyn_subs, total_subs - nonsyn_subs, '.y', alpha=0.25)\n",
    "   \n",
    "for total_subs, nonsyn_subs in substitutions[\"Drosophila serrata\"].values():\n",
    "    plt.loglog(nonsyn_subs, total_subs - nonsyn_subs, '.g', alpha=0.25)\n",
    "\n",
    "plt.loglog([1, 1000], [3,3000], \"--k\")"
   ]
  },
  {
   "cell_type": "code",
   "execution_count": null,
   "id": "7ec7683b",
   "metadata": {},
   "outputs": [],
   "source": [
    "sorted(substitutions[\"Drosophila pseudoobscura\"])"
   ]
  },
  {
   "cell_type": "code",
   "execution_count": null,
   "id": "61c2203e",
   "metadata": {},
   "outputs": [],
   "source": [
    "for total_subs, nonsyn_subs in substitutions.values():\n",
    "    plt.loglog(nonsyn_subs, total_subs - nonsyn_subs, '.k', alpha=0.25)"
   ]
  },
  {
   "cell_type": "code",
   "execution_count": null,
   "id": "b62d3de2",
   "metadata": {},
   "outputs": [],
   "source": [
    "for total_subs, nonsyn_subs in substitutions.values():\n",
    "    plt.loglog(nonsyn_subs, total_subs - nonsyn_subs, '.k', alpha=0.25)\n",
    "plt.loglog([1, 1000], [2,2000], \"--k\")"
   ]
  },
  {
   "cell_type": "markdown",
   "id": "d6de4456",
   "metadata": {},
   "source": [
    "## TO-DO:\n",
    "- Repeat for different genes\n",
    "- Plots of DN vs DS, where each point is a species comparison\n",
    "- Scatterplot of DN vs DS, where each point is a gene\n",
    "- The same, but highlighting a set of genes of interest"
   ]
  },
  {
   "cell_type": "code",
   "execution_count": null,
   "id": "ecec7f92",
   "metadata": {},
   "outputs": [],
   "source": [
    "bases = set([\"A\", \"C\", \"G\", \"T\"])\n",
    "for comb in product(bases, repeat=3):\n",
    "    s = Seq(\"\".join(comb))\n",
    "    print(s, \"->\", s.translate())"
   ]
  },
  {
   "cell_type": "code",
   "execution_count": null,
   "id": "8a3f574f",
   "metadata": {},
   "outputs": [],
   "source": [
    "codons = (Seq(\"\".join(b)) for b in product(bases, repeat=3))\n",
    "genetic_code = {\n",
    "    codon: codon.translate()\n",
    "    for codon in codons\n",
    "    if codon.translate() != Seq(\"*\")\n",
    "}"
   ]
  },
  {
   "cell_type": "code",
   "execution_count": null,
   "id": "10396c07",
   "metadata": {},
   "outputs": [],
   "source": [
    "def count_differences(codon1, codon2):\n",
    "    return sum(b1 != b2 for b1, b2 in zip(codon1, codon2))\n",
    "\n",
    "nonsyn_counts = Counter()\n",
    "syn_counts = Counter()\n",
    "for codon1, codon2 in combinations(genetic_code, 2):\n",
    "    if count_differences(codon1, codon2) == 1:\n",
    "        if genetic_code[codon1] == genetic_code[codon2]:\n",
    "            syn_counts[codon1] += 1\n",
    "            syn_counts[codon2] += 1\n",
    "        else:\n",
    "            nonsyn_counts[codon1] += 1\n",
    "            nonsyn_counts[codon2] += 1"
   ]
  },
  {
   "cell_type": "code",
   "execution_count": null,
   "id": "e22189b2",
   "metadata": {},
   "outputs": [],
   "source": [
    "for codon in genetic_code:\n",
    "    print(codon, nonsyn_counts[codon], syn_counts[codon])"
   ]
  },
  {
   "cell_type": "code",
   "execution_count": null,
   "id": "74e09d32",
   "metadata": {},
   "outputs": [],
   "source": [
    "nonsyn_total = sum(nonsyn_counts.values())\n",
    "syn_total = sum(syn_counts.values())\n",
    "print(nonsyn_total / syn_total)"
   ]
  },
  {
   "cell_type": "code",
   "execution_count": null,
   "id": "b6129795",
   "metadata": {},
   "outputs": [],
   "source": [
    "def expected_dnds(seq, nonsyn_counts, syn_counts):\n",
    "    nonsyn = 0\n",
    "    syn = 0\n",
    "    for i in range(0, len(seq), 3):\n",
    "        codon = seq[i:i+3]\n",
    "        try:\n",
    "            nonsyn += nonsyn_counts[codon]\n",
    "            syn += syn_counts[codon]\n",
    "        except KeyError:\n",
    "            return None\n",
    "    return nonsyn / syn"
   ]
  },
  {
   "cell_type": "code",
   "execution_count": null,
   "id": "cadcb8ea",
   "metadata": {},
   "outputs": [],
   "source": [
    "gene_ids = [f.split(\".\")[0] for f in files]\n",
    "focal_species = \"Drosophila melanogaster\"\n",
    "expectations = {}\n",
    "for gene_id in gene_ids:\n",
    "    records = import_fasta(gene_id, datadir)\n",
    "    longest_records = longest_record_per_species(records)\n",
    "    if focal_species not in longest_records:\n",
    "        continue\n",
    "    seq = longest_records[focal_species].seq\n",
    "    expectations[gene_id] = expected_dnds(seq, nonsyn_counts, syn_counts)"
   ]
  },
  {
   "cell_type": "code",
   "execution_count": null,
   "id": "2c69997e",
   "metadata": {},
   "outputs": [],
   "source": [
    "plt.hist(expectations.values())"
   ]
  },
  {
   "cell_type": "code",
   "execution_count": null,
   "id": "5221d9d4",
   "metadata": {},
   "outputs": [],
   "source": [
    "omega = {}\n",
    "for gene_id, (total_subs, nonsyn_subs) in substitutions[\"Drosophila pseudoobscura\"].items():\n",
    "    syn_subs = total_subs - nonsyn_subs\n",
    "    dnds = nonsyn_subs / syn_subs\n",
    "    expected_dnds = expectations[gene_id]\n",
    "    omega[gene_id] = dnds / expected_dnds"
   ]
  },
  {
   "cell_type": "code",
   "execution_count": null,
   "id": "6a9aa2c0",
   "metadata": {},
   "outputs": [],
   "source": [
    "plt.hist(omega)"
   ]
  },
  {
   "cell_type": "code",
   "execution_count": null,
   "id": "d151dcb1",
   "metadata": {},
   "outputs": [],
   "source": []
  }
 ],
 "metadata": {
  "kernelspec": {
   "display_name": "Python 3 (ipykernel)",
   "language": "python",
   "name": "python3"
  },
  "language_info": {
   "codemirror_mode": {
    "name": "ipython",
    "version": 3
   },
   "file_extension": ".py",
   "mimetype": "text/x-python",
   "name": "python",
   "nbconvert_exporter": "python",
   "pygments_lexer": "ipython3",
   "version": "3.9.7"
  }
 },
 "nbformat": 4,
 "nbformat_minor": 5
}
