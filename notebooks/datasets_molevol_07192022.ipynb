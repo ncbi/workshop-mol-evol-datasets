{
 "cells": [
  {
   "cell_type": "markdown",
   "id": "a17a866f",
   "metadata": {},
   "source": [
    "# NCBI Datasets (07/21/2022)"
   ]
  },
  {
   "cell_type": "markdown",
   "id": "26f69883",
   "metadata": {},
   "source": [
    "### Table of contents <a class=\"anchor\" id=\"top\"></a>\n",
    "* [Part I: Introduction to NCBI Datasets](#Part-I) \n",
    "* [Part II: Getting a list of gene-ids per species](#Part-II)\n",
    "* [Part III: Getting ortholog data packages from a list of gene-ids](#Part-III)\n",
    "* [Part IV: Closer look at the ortholog metadata files](#Part-IV)"
   ]
  },
  {
   "cell_type": "markdown",
   "id": "4078b85c",
   "metadata": {},
   "source": [
    "## Jupyter Notebooks"
   ]
  },
  {
   "cell_type": "markdown",
   "id": "706efde6",
   "metadata": {},
   "source": [
    "## Natural Selection and dN/dS"
   ]
  },
  {
   "cell_type": "markdown",
   "id": "d60a05cb",
   "metadata": {},
   "source": [
    "## Introduction to NCBI Datasets<a class=\"anchor\" id=\"Part-I\"></a>"
   ]
  },
  {
   "cell_type": "markdown",
   "id": "8b785d5b",
   "metadata": {},
   "source": [
    "### How is `datasets` organized?\n",
    "\n",
    "[NCBI datasets](https://www.ncbi.nlm.nih.gov/datasets/docs/v1/download-and-install/) is a command line tool that allows users to download data packages (data + metadata) or look at metadata summaries for genomes, RefSeq annotated genes, curated ortholog sets and SARS-Cov-2 virus sequences and proteins. The program follows a hierarchy that makes it easier for users to select exact which options they would like to use. In addition to the program commands, additional flags are available for filtering the results. We will go over those during this tutorial.\n",
    "<img src=\"https://www.ncbi.nlm.nih.gov/datasets/docs/v1/datasets_schema_complete.svg\" alt=\"datasets\" style=\"width: 800px;\"/>"
   ]
  },
  {
   "cell_type": "markdown",
   "id": "54d048ca",
   "metadata": {},
   "source": [
    "In addition to `datasets`, we will be using `jq` (JSON parser) and `dataformat`, a `datasets`companion tool, to take a look at the metadata information. Our metadata reports are almost all in JSON or [JSON Lines](https://jsonlines.org/) format. We put together a [jq cheat sheet]( https://github.com/ncbi/datasets/blob/workshop-cshl-2021/training/cshl-2021/jq_cheatsheet.md) to help you extract information from those files.  "
   ]
  },
  {
   "cell_type": "markdown",
   "id": "c7f190f7",
   "metadata": {},
   "source": [
    "For example: if I want to download the cat reference genome (<i>Felis catus</i>), I would use the command below:"
   ]
  },
  {
   "cell_type": "code",
   "execution_count": 1,
   "id": "2e1c62b3",
   "metadata": {},
   "outputs": [],
   "source": [
    "%%bash\n",
    "#Download the monarch butterfly (taxid 13037) reference genome, with associated annotation files and metadata\n",
    "\n",
    "datasets download genome taxon 13037 --reference --no-progressbar\n"
   ]
  },
  {
   "cell_type": "markdown",
   "id": "7c7bdc70",
   "metadata": {},
   "source": [
    "Instead of downloading a data package, I could instead look at the metadata information by using the `summary`command. Here, I'm pipping it to [`jq`](https://stedolan.github.io/jq/) so it's easier to read:"
   ]
  },
  {
   "cell_type": "code",
   "execution_count": 4,
   "id": "42a87f34",
   "metadata": {},
   "outputs": [
    {
     "name": "stdout",
     "output_type": "stream",
     "text": [
      "{\n",
      "  \"assemblies\": [\n",
      "    {\n",
      "      \"assembly\": {\n",
      "        \"annotation_metadata\": {\n",
      "          \"busco\": {\n",
      "            \"busco_lineage\": \"lepidoptera_odb10\",\n",
      "            \"busco_ver\": \"4.0.2\",\n",
      "            \"complete\": 0.989406,\n",
      "            \"duplicated\": 0.016080212,\n",
      "            \"fragmented\": 0.0034052213,\n",
      "            \"missing\": 0.0071888007,\n",
      "            \"single_copy\": 0.9733258,\n",
      "            \"total_count\": \"5286\"\n",
      "          },\n",
      "          \"file\": [\n",
      "            {\n",
      "              \"estimated_size\": \"5355000\",\n",
      "              \"type\": \"GENOME_GFF\"\n",
      "            },\n",
      "            {\n",
      "              \"estimated_size\": \"109877053\",\n",
      "              \"type\": \"GENOME_GBFF\"\n",
      "            },\n",
      "            {\n",
      "              \"estimated_size\": \"10518960\",\n",
      "              \"type\": \"RNA_FASTA\"\n",
      "            },\n",
      "            {\n",
      "              \"estimated_size\": \"4769745\",\n",
      "              \"type\": \"PROT_FASTA\"\n",
      "            },\n",
      "            {\n",
      "              \"estimated_size\": \"5032728\",\n",
      "              \"type\": \"GENOME_GTF\"\n",
      "            },\n",
      "            {\n",
      "              \"estimated_size\": \"8806955\",\n",
      "              \"type\": \"CDS_FASTA\"\n",
      "            }\n",
      "          ],\n",
      "          \"name\": \"NCBI Annotation Release 100\",\n",
      "          \"release_date\": \"2020-02-24\",\n",
      "          \"release_number\": \"100\",\n",
      "          \"report_url\": \"https://www.ncbi.nlm.nih.gov/genome/annotation_euk/Danaus_plexippus_plexippus/100/\",\n",
      "          \"source\": \"NCBI RefSeq\",\n",
      "          \"stats\": {\n",
      "            \"gene_counts\": {\n",
      "              \"protein_coding\": 13105,\n",
      "              \"total\": 14669\n",
      "            }\n",
      "          }\n",
      "        },\n",
      "        \"assembly_accession\": \"GCF_009731565.1\",\n",
      "        \"assembly_category\": \"representative genome\",\n",
      "        \"assembly_level\": \"Chromosome\",\n",
      "        \"bioproject_lineages\": [\n",
      "          {\n",
      "            \"bioprojects\": [\n",
      "              {\n",
      "                \"accession\": \"PRJNA564985\",\n",
      "                \"title\": \"Danaus plexippus Chromosome-scale assembly\"\n",
      "              }\n",
      "            ]\n",
      "          }\n",
      "        ],\n",
      "        \"biosample\": {\n",
      "          \"accession\": \"SAMN01758044\",\n",
      "          \"attributes\": [\n",
      "            {\n",
      "              \"name\": \"isolate\",\n",
      "              \"value\": \"F-2\"\n",
      "            },\n",
      "            {\n",
      "              \"name\": \"sex\",\n",
      "              \"value\": \"female\"\n",
      "            },\n",
      "            {\n",
      "              \"name\": \"geo_loc_name\",\n",
      "              \"value\": \"USA: Greenfield, Massachusetts\"\n",
      "            },\n",
      "            {\n",
      "              \"name\": \"lat_lon\",\n",
      "              \"value\": \"42.98 N 73.00 W\"\n",
      "            },\n",
      "            {\n",
      "              \"name\": \"collection_date\",\n",
      "              \"value\": \"Oct-2008\"\n",
      "            }\n",
      "          ],\n",
      "          \"description\": {\n",
      "            \"organism\": {\n",
      "              \"organism_name\": \"Danaus plexippus plexippus\",\n",
      "              \"tax_id\": 278856\n",
      "            },\n",
      "            \"title\": \"RNAseq reads for monarch transcriptome\"\n",
      "          },\n",
      "          \"last_updated\": \"2015-02-17T17:01:07.933\",\n",
      "          \"models\": [\n",
      "            \"Generic\"\n",
      "          ],\n",
      "          \"owner\": {\n",
      "            \"contacts\": [\n",
      "              {\n",
      "                \"lab\": \"Reppert Lab\"\n",
      "              }\n",
      "            ],\n",
      "            \"name\": \"UMASS Medical School\"\n",
      "          },\n",
      "          \"package\": \"Generic.1.0\",\n",
      "          \"publication_date\": \"2012-10-11T07:44:14.220\",\n",
      "          \"sample_ids\": [\n",
      "            {\n",
      "              \"db\": \"UMASS Medical School\",\n",
      "              \"label\": \"Sample name\",\n",
      "              \"value\": \"DpRNAseq\"\n",
      "            },\n",
      "            {\n",
      "              \"db\": \"SRA\",\n",
      "              \"value\": \"SRS366852\"\n",
      "            }\n",
      "          ],\n",
      "          \"status\": {\n",
      "            \"status\": \"live\",\n",
      "            \"when\": \"2014-06-03T14:14:35\"\n",
      "          },\n",
      "          \"submission_date\": \"2012-10-03T17:06:20.987\"\n",
      "        },\n",
      "        \"biosample_accession\": \"SAMN01758044\",\n",
      "        \"blast_url\": \"https://blast.ncbi.nlm.nih.gov/Blast.cgi?PAGE_TYPE=BlastSearch&PROG_DEF=blastn&BLAST_SPEC=GDH_GCF_009731565.1\",\n",
      "        \"chromosomes\": [\n",
      "          {\n",
      "            \"accession_version\": \"NC_045808.1\",\n",
      "            \"gc_count\": \"3332111\",\n",
      "            \"length\": \"10631990\",\n",
      "            \"name\": \"2\"\n",
      "          },\n",
      "          {\n",
      "            \"accession_version\": \"NC_045809.1\",\n",
      "            \"gc_count\": \"3163443\",\n",
      "            \"length\": \"10450245\",\n",
      "            \"name\": \"3\"\n",
      "          },\n",
      "          {\n",
      "            \"accession_version\": \"NC_045810.1\",\n",
      "            \"gc_count\": \"3239782\",\n",
      "            \"length\": \"10414450\",\n",
      "            \"name\": \"4\"\n",
      "          },\n",
      "          {\n",
      "            \"accession_version\": \"NC_045811.1\",\n",
      "            \"gc_count\": \"3236339\",\n",
      "            \"length\": \"10184249\",\n",
      "            \"name\": \"5\"\n",
      "          },\n",
      "          {\n",
      "            \"accession_version\": \"NC_045812.1\",\n",
      "            \"gc_count\": \"3059777\",\n",
      "            \"length\": \"10039743\",\n",
      "            \"name\": \"6\"\n",
      "          },\n",
      "          {\n",
      "            \"accession_version\": \"NC_045813.1\",\n",
      "            \"gc_count\": \"3080865\",\n",
      "            \"length\": \"9950675\",\n",
      "            \"name\": \"7\"\n",
      "          },\n",
      "          {\n",
      "            \"accession_version\": \"NC_045814.1\",\n",
      "            \"gc_count\": \"2967340\",\n",
      "            \"length\": \"9826000\",\n",
      "            \"name\": \"8\"\n",
      "          },\n",
      "          {\n",
      "            \"accession_version\": \"NC_045815.1\",\n",
      "            \"gc_count\": \"3073910\",\n",
      "            \"length\": \"9622331\",\n",
      "            \"name\": \"9\"\n",
      "          },\n",
      "          {\n",
      "            \"accession_version\": \"NC_045816.1\",\n",
      "            \"gc_count\": \"2805944\",\n",
      "            \"length\": \"9320052\",\n",
      "            \"name\": \"10\"\n",
      "          },\n",
      "          {\n",
      "            \"accession_version\": \"NC_045817.1\",\n",
      "            \"gc_count\": \"2878362\",\n",
      "            \"length\": \"9273636\",\n",
      "            \"name\": \"11\"\n",
      "          },\n",
      "          {\n",
      "            \"accession_version\": \"NC_045818.1\",\n",
      "            \"gc_count\": \"2834755\",\n",
      "            \"length\": \"9209872\",\n",
      "            \"name\": \"12\"\n",
      "          },\n",
      "          {\n",
      "            \"accession_version\": \"NC_045819.1\",\n",
      "            \"gc_count\": \"2696823\",\n",
      "            \"length\": \"8907986\",\n",
      "            \"name\": \"13\"\n",
      "          },\n",
      "          {\n",
      "            \"accession_version\": \"NC_045820.1\",\n",
      "            \"gc_count\": \"2733862\",\n",
      "            \"length\": \"8886595\",\n",
      "            \"name\": \"14\"\n",
      "          },\n",
      "          {\n",
      "            \"accession_version\": \"NC_045821.1\",\n",
      "            \"gc_count\": \"2615557\",\n",
      "            \"length\": \"8615111\",\n",
      "            \"name\": \"15\"\n",
      "          },\n",
      "          {\n",
      "            \"accession_version\": \"NC_045822.1\",\n",
      "            \"gc_count\": \"2609215\",\n",
      "            \"length\": \"8545482\",\n",
      "            \"name\": \"16\"\n",
      "          },\n",
      "          {\n",
      "            \"accession_version\": \"NC_045823.1\",\n",
      "            \"gc_count\": \"2589508\",\n",
      "            \"length\": \"8449262\",\n",
      "            \"name\": \"17\"\n",
      "          },\n",
      "          {\n",
      "            \"accession_version\": \"NC_045824.1\",\n",
      "            \"gc_count\": \"2568804\",\n",
      "            \"length\": \"8166185\",\n",
      "            \"name\": \"18\"\n",
      "          },\n",
      "          {\n",
      "            \"accession_version\": \"NC_045825.1\",\n",
      "            \"gc_count\": \"2468986\",\n",
      "            \"length\": \"7845940\",\n",
      "            \"name\": \"19\"\n",
      "          },\n",
      "          {\n",
      "            \"accession_version\": \"NC_045826.1\",\n",
      "            \"gc_count\": \"2134125\",\n",
      "            \"length\": \"7367651\",\n",
      "            \"name\": \"20\"\n",
      "          },\n",
      "          {\n",
      "            \"accession_version\": \"NC_045827.1\",\n",
      "            \"gc_count\": \"2207861\",\n",
      "            \"length\": \"7243763\",\n",
      "            \"name\": \"21\"\n",
      "          },\n",
      "          {\n",
      "            \"accession_version\": \"NC_045828.1\",\n",
      "            \"gc_count\": \"2133349\",\n",
      "            \"length\": \"7084546\",\n",
      "            \"name\": \"22\"\n",
      "          },\n",
      "          {\n",
      "            \"accession_version\": \"NC_045829.1\",\n",
      "            \"gc_count\": \"2023839\",\n",
      "            \"length\": \"6814233\",\n",
      "            \"name\": \"23\"\n",
      "          },\n",
      "          {\n",
      "            \"accession_version\": \"NC_045830.1\",\n",
      "            \"gc_count\": \"1981564\",\n",
      "            \"length\": \"6514101\",\n",
      "            \"name\": \"24\"\n",
      "          },\n",
      "          {\n",
      "            \"accession_version\": \"NC_045831.1\",\n",
      "            \"gc_count\": \"1688811\",\n",
      "            \"length\": \"5644642\",\n",
      "            \"name\": \"25\"\n",
      "          },\n",
      "          {\n",
      "            \"accession_version\": \"NC_045832.1\",\n",
      "            \"gc_count\": \"1684507\",\n",
      "            \"length\": \"5380037\",\n",
      "            \"name\": \"26\"\n",
      "          },\n",
      "          {\n",
      "            \"accession_version\": \"NC_045833.1\",\n",
      "            \"gc_count\": \"1302410\",\n",
      "            \"length\": \"4150802\",\n",
      "            \"name\": \"27\"\n",
      "          },\n",
      "          {\n",
      "            \"accession_version\": \"NC_045834.1\",\n",
      "            \"gc_count\": \"1268770\",\n"
     ]
    },
    {
     "name": "stdout",
     "output_type": "stream",
     "text": [
      "            \"length\": \"3992836\",\n",
      "            \"name\": \"28\"\n",
      "          },\n",
      "          {\n",
      "            \"accession_version\": \"NC_045835.1\",\n",
      "            \"gc_count\": \"1217929\",\n",
      "            \"length\": \"3625418\",\n",
      "            \"name\": \"29\"\n",
      "          },\n",
      "          {\n",
      "            \"accession_version\": \"NC_045836.1\",\n",
      "            \"gc_count\": \"4862276\",\n",
      "            \"length\": \"15616146\",\n",
      "            \"name\": \"Z\"\n",
      "          },\n",
      "          {\n",
      "            \"accession_version\": \"NC_045837.1\",\n",
      "            \"gc_count\": \"1098016\",\n",
      "            \"length\": \"3411326\",\n",
      "            \"name\": \"30\"\n",
      "          },\n",
      "          {\n",
      "            \"gc_count\": \"880905\",\n",
      "            \"length\": \"3491109\",\n",
      "            \"name\": \"Un\"\n",
      "          }\n",
      "        ],\n",
      "        \"contig_n50\": 108026,\n",
      "        \"display_name\": \"Dplex_v4\",\n",
      "        \"estimated_size\": \"298220984\",\n",
      "        \"gc_count\": \"76439745\",\n",
      "        \"org\": {\n",
      "          \"assembly_counts\": {\n",
      "            \"node\": 2,\n",
      "            \"subtree\": 2\n",
      "          },\n",
      "          \"isolate\": \"F-2\",\n",
      "          \"key\": \"278856\",\n",
      "          \"parent_tax_id\": \"13037\",\n",
      "          \"rank\": \"SUBSPECIES\",\n",
      "          \"sci_name\": \"Danaus plexippus plexippus\",\n",
      "          \"sex\": \"female\",\n",
      "          \"tax_id\": \"278856\",\n",
      "          \"title\": \"Danaus plexippus plexippus\"\n",
      "        },\n",
      "        \"paired_assembly_accession\": \"GCA_009731565.1\",\n",
      "        \"seq_length\": \"248676414\",\n",
      "        \"submission_date\": \"2019-12-11\",\n",
      "        \"submitter\": \"Princeton University\"\n",
      "      }\n",
      "    }\n",
      "  ],\n",
      "  \"total_count\": 1\n",
      "}\n"
     ]
    }
   ],
   "source": [
    "%%bash\n",
    "#Check the metadata information for the monarch butterfly reference genome\n",
    "\n",
    "datasets summary genome taxon 13037 --reference | jq ."
   ]
  },
  {
   "cell_type": "markdown",
   "id": "cd1ac2d9",
   "metadata": {},
   "source": [
    "### Data packages"
   ]
  },
  {
   "cell_type": "markdown",
   "id": "d66b33f7",
   "metadata": {},
   "source": [
    "NCBI Datasets delivers data as <u>data packages</u>, which which are zip archives containing both data (FASTA, GFF3, GTF, GBFF) and metadata files (JSON, JSON-Lines). The image below shows the contents of all data packages. Files are included depending on their availability. For example: for an annotated genome, the data package would include FASTA files (genomic, transcript, protein and CDS sequences) and annotation files (GFF3, GTF and GBFF).\n",
    "\n",
    "\n",
    "<img src=\"./images/datapackages.png\" alt=\"data_package\" style=\"width: 800px;\"/>\n",
    "\n",
    "Currently, the `virus` option only include SARS-Cov-2 genomes and proteins. "
   ]
  },
  {
   "cell_type": "markdown",
   "id": "ed84aedf",
   "metadata": {},
   "source": [
    "### How to get help when using the command line\n",
    "\n",
    "Since `datasets` is a very hierarchical program, we can use that characteristic to our advantage to get very specific help.   For example: if we type `datasets --help`, we will see the first level of commands available.\n"
   ]
  },
  {
   "cell_type": "code",
   "execution_count": 5,
   "id": "d219e750",
   "metadata": {},
   "outputs": [
    {
     "name": "stdout",
     "output_type": "stream",
     "text": [
      "datasets is a command-line tool that is used to query and download biological sequence data\n",
      "across all domains of life from NCBI databases.\n",
      "\n",
      "Refer to NCBI's [download and install](https://www.ncbi.nlm.nih.gov/datasets/docs/download-and-install/) documentation for information about getting started with the command-line tools.\n",
      "\n",
      "Usage\n",
      "  datasets [command]\n",
      "\n",
      "Data Retrieval Commands\n",
      "  summary              print a summary of a gene or genome dataset\n",
      "  download             download a gene, genome or coronavirus dataset as a zip file\n",
      "  rehydrate            rehydrate a downloaded, dehydrated dataset\n",
      "\n",
      "Miscellaneous Commands\n",
      "  completion           generate autocompletion scripts\n",
      "  version              print the version of this client and exit\n",
      "  help                 Help about any command\n",
      "\n",
      "Flags\n",
      "      --api-key string   NCBI Datasets API Key\n",
      "  -h, --help             help for datasets\n",
      "      --no-progressbar   hide progress bar\n",
      "\n",
      "Use datasets help <command> for detailed help about a command.\n"
     ]
    }
   ],
   "source": [
    "%%bash\n",
    "datasets --help"
   ]
  },
  {
   "cell_type": "markdown",
   "id": "db05f935",
   "metadata": {},
   "source": [
    "Notice the difference from when we type `datasets summary genome taxon formicidae --help`  \n"
   ]
  },
  {
   "cell_type": "code",
   "execution_count": 6,
   "id": "a09930dd",
   "metadata": {
    "scrolled": true
   },
   "outputs": [
    {
     "name": "stdout",
     "output_type": "stream",
     "text": [
      "\n",
      "Print a summary of a genome dataset by taxon (NCBI Taxonomy ID, scientific or common name at any tax rank). The summary is returned in JSON format.\n",
      "\n",
      "Refer to NCBI's [download and install](https://www.ncbi.nlm.nih.gov/datasets/docs/download-and-install/) documentation for information about getting started with the command-line tools.\n",
      "\n",
      "Usage\n",
      "  datasets summary genome taxon [flags]\n",
      "\n",
      "Examples\n",
      "  datasets summary genome taxon human\n",
      "  datasets summary genome taxon \"mus musculus\"\n",
      "  datasets summary genome taxon 10116\n",
      "\n",
      "Flags\n",
      "  -h, --help              help for taxon\n",
      "      --tax-exact-match   exclude sub-species when a species-level taxon is specified\n",
      "\n",
      "\n",
      "Global Flags\n",
      "  -a, --annotated                only include genomes with annotation\n",
      "      --api-key string           NCBI Datasets API Key\n",
      "      --as-json-lines            Stream results as newline delimited JSON-Lines\n",
      "      --assembly-level string    restrict assemblies to a comma-separated list of one or more of: chromosome, complete_genome, contig, scaffold\n",
      "      --assembly-source string   restrict assemblies to refseq or genbank only\n",
      "      --assmaccs                 return only assembly accessions\n",
      "      --limit string             limit the number of genome summaries returned\n",
      "                                 * \"all\": returns all matching genome summaries\n",
      "                                 * \"none\": returns only the number of matching genome summaries\n",
      "                                 * a number: returns the specified number of matching genome summaries\n",
      "                                  (default \"all\")\n",
      "      --no-progressbar           hide progress bar\n",
      "      --reference                limit to reference and representative (GCF_ and GCA_) assemblies\n",
      "      --released-before string   only include genomes that have been released before a specified date (MM/DD/YYYY)\n",
      "      --released-since string    only include genomes that have been released after a specified date (MM/DD/YYYY)\n",
      "      --search strings           only include genomes that have the specified text in the\n",
      "                                 searchable fields: species and infraspecies, assembly name and submitter\n",
      "                                 To provide multiple strings '--search' can be included multiple times\n",
      "\n"
     ]
    }
   ],
   "source": [
    "%%bash\n",
    "    datasets summary genome taxon formicidae --help"
   ]
  },
  {
   "cell_type": "markdown",
   "id": "d3214ca5",
   "metadata": {},
   "source": [
    "### Exercises:"
   ]
  },
  {
   "cell_type": "markdown",
   "id": "d8f07c38",
   "metadata": {},
   "source": [
    "Now let's use `datasets` and `jq` to take a look at the available genomes for your taxon of interest. Use our [jq cheatsheet](https://github.com/ncbi/datasets/blob/workshop-cshl-2021/training/cshl-2021/jq_cheatsheet.md) to look at the available fields and look for the information you need. Some ideas: \n",
    "- how many genomes are available?\n",
    "- What's the contig N50?\n"
   ]
  },
  {
   "cell_type": "code",
   "execution_count": null,
   "id": "b0729b5c",
   "metadata": {},
   "outputs": [],
   "source": [
    "%%bash\n",
    "\n"
   ]
  },
  {
   "cell_type": "code",
   "execution_count": null,
   "id": "d2fd9da8",
   "metadata": {},
   "outputs": [],
   "source": [
    "%%bash\n",
    "\n"
   ]
  },
  {
   "cell_type": "code",
   "execution_count": null,
   "id": "c75eb8b6",
   "metadata": {},
   "outputs": [],
   "source": [
    "%%bash\n",
    "\n"
   ]
  },
  {
   "cell_type": "markdown",
   "id": "c8bdd31c",
   "metadata": {},
   "source": [
    "⬆︎[back to top](#top)"
   ]
  },
  {
   "cell_type": "markdown",
   "id": "92c031a1",
   "metadata": {},
   "source": [
    "## Part II: Getting a list of gene-ids per species <a class=\"anchor\" id=\"Part-II\"></a>"
   ]
  },
  {
   "cell_type": "markdown",
   "id": "5b4d055b",
   "metadata": {},
   "source": [
    "Independent of choosing `datasets download` or `datasets summary`, there are three options for retrieving gene information: <i>accession</i>, <i>gene-id</i>, and <i>symbol</i>.  \n",
    "\n",
    "When choosing any of those three options, you will retrieve the gene information for the **reference** taxon. Like this:\n",
    "\n",
    "`datasets download gene accession XR_002738142.1`  \n",
    "`datasets download gene gene-id 101081937`  \n",
    "`datasets download gene symbol BRCA1 --taxon cat`  \n",
    "\n",
    "All three commands will download the same gene from the cat (<i>Felis catus</i>) <u>reference genome</u>. \n",
    "\n",
    "- **accession**: Unique identifier. Accession includes RefSeq RNA and protein accessions. Since it's unique, taxon is implied (aka there will never be two sequences from different taxa with the same accession number).  \n",
    "\n",
    "- **gene-id**: Also a unique identifier. Every RefSeq genome annotated has a unique set of identifiers. For example: the gene-id for BRCA1 in human is 672, while in cat is 101081937.  \n",
    "\n",
    "- **symbol**: Differently from accession and gene-id, gene symbol is not unique and means different things in different taxonomic groups. If using the symbol option, you should specify the species. The default option is human.\n",
    "\n",
    "**Remember**: both `summary` and `download` will return results for the **reference assembly** of a <u>single species</u>. If you want to download a curated set of the same gene for multiple taxa, you should use the option `ortholog`. We'll talk more about it later. For reference, here's the JSON organization of the gene summary metadata. "
   ]
  },
  {
   "cell_type": "markdown",
   "id": "4b8c4f1b",
   "metadata": {},
   "source": [
    "### Now let's take a look at a gene example:\n",
    "\n",
    "<img src=\"./images/gene_json_gene-id.png\" />"
   ]
  },
  {
   "cell_type": "markdown",
   "id": "5196c345",
   "metadata": {},
   "source": [
    "We want to extract a list of gene-ids for *Drosophila melanogaster* (tax-id 7227). We will use that list later to download ortholog sets for each gene-id. Here, we will invoke the command `summary` and pipe the JSON output to `jq` to extract the complete list of gene-ids for that species.   \n",
    "If you look in the figure above and follow the numbers in the command below, you'll understand better how to build a `jq` filtering command."
   ]
  },
  {
   "cell_type": "code",
   "execution_count": 7,
   "id": "6e2b6fe8",
   "metadata": {},
   "outputs": [],
   "source": [
    "%%bash\n",
    "# Get list of gene-ids for D. melanogaster and save as a txt file\n",
    "\n",
    "                                             #1     #2    #3\n",
    "datasets summary gene taxon 7227 | jq -r '.genes[].gene.gene_id' > dmel_gene-ids.txt\n"
   ]
  },
  {
   "cell_type": "markdown",
   "id": "210dffb7",
   "metadata": {},
   "source": [
    "Let's take a quick look at how many genes are annotated in <i>D. melanogaster</i>."
   ]
  },
  {
   "cell_type": "code",
   "execution_count": 8,
   "id": "e748073a",
   "metadata": {},
   "outputs": [
    {
     "name": "stdout",
     "output_type": "stream",
     "text": [
      "17868 dmel_gene-ids.txt\n"
     ]
    }
   ],
   "source": [
    "%%bash\n",
    "# Count the number of lines (genes) in the list\n",
    "\n",
    "wc -l dmel_gene-ids.txt"
   ]
  },
  {
   "cell_type": "markdown",
   "id": "b91c446c",
   "metadata": {},
   "source": [
    "### Exercises"
   ]
  },
  {
   "cell_type": "markdown",
   "id": "cb007c4d",
   "metadata": {},
   "source": [
    "Choose another species and look for the number of genes annotated in it. Hint: you can pipe the `wc -l` command (count number of lines) after the `jq` command that extracts the gene-ids. "
   ]
  },
  {
   "cell_type": "code",
   "execution_count": 3,
   "id": "a0d7464a",
   "metadata": {},
   "outputs": [],
   "source": [
    "%%bash\n",
    "\n",
    "\n"
   ]
  },
  {
   "cell_type": "code",
   "execution_count": null,
   "id": "38738495",
   "metadata": {},
   "outputs": [],
   "source": []
  },
  {
   "cell_type": "markdown",
   "id": "3bd53d3f",
   "metadata": {},
   "source": [
    "⬆︎[back to top](#top)"
   ]
  },
  {
   "cell_type": "markdown",
   "id": "c908cc8b",
   "metadata": {},
   "source": [
    "## Part III: Accessing orthologs <a class=\"anchor\" id=\"Part-III\"></a>\n",
    "\n",
    "### Orthologs\n",
    "\n",
    "The options to retrieve ortholog sets are the same as those for genes. We'll go over the differences when using each option: <i>accession</i>, <i>gene-id</i>, and <i>symbol</i>.   \n",
    "\n",
    "When choosing any of those three options, you will download the **full ortholog set** to which they belong (unless you use additional filtering. We'll cover it below). Like this:\n",
    "\n",
    "`datasets download ortholog accession XR_002738142.1`  \n",
    "`datasets download ortholog gene-id 101081937`  \n",
    "`datasets download ortholog symbol BRCA1 --taxon cat`  \n",
    "\n",
    "All three commands will download the **same** ortholog set. \n",
    "\n",
    "---\n",
    "\n",
    "#### <font color='blue'>Wait, but what is an ortholog set?</font>\n",
    "\n",
    ">An ortholog set, or ortholog gene group, is a group of sequences that have been identified by the NCBI genome annotation team as homologous genes related to each other by speciation events. They are identified by a combination of protein similarity + local syntheny information. \n",
    "Currently, NCBI has ortholog sets calculated for vertebrates and some insects. \n",
    "---\n",
    "\n",
    "- **accession**: Unique identifier. Accession includes RefSeq accession RNA and protein sequences. Since it's unique, taxon is implied (aka there will never be two sequences from different taxa with the same accession number).\n",
    "\n",
    "- **gene-id**:  Also an unique identifier. Every RefSeq genome annotated has a unique set of identifiers. For example: the gene-id for BRCA1 in human is 672, while in cat is 101081937. You can use either one (672 or 101081937) to get the same vertebrate BRCA1 ortholog set.\n",
    "\n",
    "- **symbol**: Differently from accession and gene-id, gene symbol is not unique and means different things in different taxonomic groups. For example: the P53 ortholog set in vertebrates is different from the insect set. If using the symbol option, you should specify the taxonomic group. The default option is human. Note that if you want ortholog sets from multiple vertebrate species, you might end up downloading the same ortholog set multiple times. Like this: \n",
    "\n",
    "`datasets download ortholog symbol brca1 --taxon cat`  \n",
    "`datasets download ortholog symbol brca1 --taxon chicken`  \n",
    "`datasets download ortholog symbol brca1 --taxon \"chelonia mydas\"`  \n",
    "\n",
    "If that's the case, how do you filter the ortholog set to include *only* your taxonomic group of interest?\n",
    "\n",
    "### Applying a taxonomic filter to the ortholog set\n",
    "\n",
    "For the orthologs, `datasets` provides the flag `--taxon-filter`, which allows the user to restrict the summary or download to one or multiple taxonomic groups.  `--taxon` and `--taxon-filter` have different effects on the data package/summary output. A few examples:\n",
    "\n",
    "- `datasets summary ortholog symbol brca1 --taxon-filter \"felis catus\"`  \n",
    "Prints a json metadata summary of the gene brca1 for the domestic cat. \n",
    "We did not specify a `--taxon` because the default is human, and Felidae and human are part of the same brca1 ortholog set.   \n",
    "\n",
    "  \n",
    "\n",
    "- `datasets summary ortholog symbol brca1 --taxon \"felis catus\"`  \n",
    "Even though this option looks almost the same as the one above, the result is *very different*. Here, we're asking `datasets` to find the ortholog set to which the gene brca1 in the domestic cat belongs. And `datasets` will download the <u>entire</u> ortholog set, not only the sequences for the domestic cat.\n",
    "\n",
    "\n",
    "- `datasets summary ortholog symbol brca1 --taxon \"felis catus\" --taxon-filter \"felis catus\"`  \n",
    "gives you the same result as `datasets summary ortholog symbol brca1 --taxon-filter \"felis catus\"`\n",
    "\n",
    "\n",
    "The summary metadata for orthologs is presented in JSON Lines, which means that each gene entry is in a different line. Here's the diagram to help you create queries.\n",
    "  \n",
    "<img src=\"./images/ortholog_jsonl.drawio.png\" />"
   ]
  },
  {
   "cell_type": "markdown",
   "id": "3673c066",
   "metadata": {},
   "source": [
    "#### We are going to do the following steps:\n",
    "- Use a loop to download an ortholog data package for each gene-id in the list. Since the list is too long, let's try to download only the first 20 gene-ids from the list.\n",
    "- Unzip it to the folder ortholog\n",
    "- Look at the files"
   ]
  },
  {
   "cell_type": "code",
   "execution_count": 9,
   "id": "4040acda",
   "metadata": {},
   "outputs": [
    {
     "name": "stderr",
     "output_type": "stream",
     "text": [
      "rm: cannot remove 'orthologs': No such file or directory\n"
     ]
    },
    {
     "name": "stdout",
     "output_type": "stream",
     "text": [
      "10178776\n"
     ]
    },
    {
     "name": "stderr",
     "output_type": "stream",
     "text": [
      "Error: no valid NCBI gene identifiers, exiting\n",
      "Usage\n",
      "  datasets download ortholog gene-id <gene-id> [flags]\n",
      "\n",
      "Examples\n",
      "  datasets download ortholog gene-id 672\n",
      "\n",
      "Flags\n",
      "  -h, --help               help for gene-id\n",
      "  -i, --inputfile string   read a list of NCBI Gene IDs from a file to use as input\n",
      "\n",
      "\n",
      "Global Flags\n",
      "      --api-key string         NCBI Datasets API Key\n",
      "      --exclude-gene           exclude gene.fna (gene sequence file)\n",
      "      --exclude-protein        exclude protein.faa (protein sequence file)\n",
      "      --exclude-rna            exclude rna.fna (transcript sequence file)\n",
      "      --filename string        specify a custom file name for the downloaded dataset (default \"ncbi_dataset.zip\")\n",
      "      --include-3p-utr         include 3p_utr.fna (3'-UTR sequence file)\n",
      "      --include-5p-utr         include 5p_utr.fna (5'-UTR sequence file)\n",
      "      --include-cds            include cds.fna (CDS sequence file)\n",
      "      --no-progressbar         hide progress bar\n",
      "      --taxon-filter strings   limit results to ortholog data for a specified taxonomic group\n",
      "\n",
      "\n"
     ]
    },
    {
     "name": "stdout",
     "output_type": "stream",
     "text": [
      "10178777\n",
      "Found 14 genes in set\n",
      "10178779\n"
     ]
    },
    {
     "name": "stderr",
     "output_type": "stream",
     "text": [
      "Error: no valid NCBI gene identifiers, exiting\n",
      "Usage\n",
      "  datasets download ortholog gene-id <gene-id> [flags]\n",
      "\n",
      "Examples\n",
      "  datasets download ortholog gene-id 672\n",
      "\n",
      "Flags\n",
      "  -h, --help               help for gene-id\n",
      "  -i, --inputfile string   read a list of NCBI Gene IDs from a file to use as input\n",
      "\n",
      "\n",
      "Global Flags\n",
      "      --api-key string         NCBI Datasets API Key\n",
      "      --exclude-gene           exclude gene.fna (gene sequence file)\n",
      "      --exclude-protein        exclude protein.faa (protein sequence file)\n",
      "      --exclude-rna            exclude rna.fna (transcript sequence file)\n",
      "      --filename string        specify a custom file name for the downloaded dataset (default \"ncbi_dataset.zip\")\n",
      "      --include-3p-utr         include 3p_utr.fna (3'-UTR sequence file)\n",
      "      --include-5p-utr         include 5p_utr.fna (5'-UTR sequence file)\n",
      "      --include-cds            include cds.fna (CDS sequence file)\n",
      "      --no-progressbar         hide progress bar\n",
      "      --taxon-filter strings   limit results to ortholog data for a specified taxonomic group\n",
      "\n",
      "\n"
     ]
    },
    {
     "name": "stdout",
     "output_type": "stream",
     "text": [
      "10178780\n"
     ]
    },
    {
     "name": "stderr",
     "output_type": "stream",
     "text": [
      "Error: no valid NCBI gene identifiers, exiting\n",
      "Usage\n",
      "  datasets download ortholog gene-id <gene-id> [flags]\n",
      "\n",
      "Examples\n",
      "  datasets download ortholog gene-id 672\n",
      "\n",
      "Flags\n",
      "  -h, --help               help for gene-id\n",
      "  -i, --inputfile string   read a list of NCBI Gene IDs from a file to use as input\n",
      "\n",
      "\n",
      "Global Flags\n",
      "      --api-key string         NCBI Datasets API Key\n",
      "      --exclude-gene           exclude gene.fna (gene sequence file)\n",
      "      --exclude-protein        exclude protein.faa (protein sequence file)\n",
      "      --exclude-rna            exclude rna.fna (transcript sequence file)\n",
      "      --filename string        specify a custom file name for the downloaded dataset (default \"ncbi_dataset.zip\")\n",
      "      --include-3p-utr         include 3p_utr.fna (3'-UTR sequence file)\n",
      "      --include-5p-utr         include 5p_utr.fna (5'-UTR sequence file)\n",
      "      --include-cds            include cds.fna (CDS sequence file)\n",
      "      --no-progressbar         hide progress bar\n",
      "      --taxon-filter strings   limit results to ortholog data for a specified taxonomic group\n",
      "\n",
      "\n"
     ]
    },
    {
     "name": "stdout",
     "output_type": "stream",
     "text": [
      "10178781\n",
      "Found 18 genes in set\n",
      "10178782\n",
      "Found 37 genes in set\n",
      "10178783\n"
     ]
    },
    {
     "name": "stderr",
     "output_type": "stream",
     "text": [
      "Error: no valid NCBI gene identifiers, exiting\n",
      "Usage\n",
      "  datasets download ortholog gene-id <gene-id> [flags]\n",
      "\n",
      "Examples\n",
      "  datasets download ortholog gene-id 672\n",
      "\n",
      "Flags\n",
      "  -h, --help               help for gene-id\n",
      "  -i, --inputfile string   read a list of NCBI Gene IDs from a file to use as input\n",
      "\n",
      "\n",
      "Global Flags\n",
      "      --api-key string         NCBI Datasets API Key\n",
      "      --exclude-gene           exclude gene.fna (gene sequence file)\n",
      "      --exclude-protein        exclude protein.faa (protein sequence file)\n",
      "      --exclude-rna            exclude rna.fna (transcript sequence file)\n",
      "      --filename string        specify a custom file name for the downloaded dataset (default \"ncbi_dataset.zip\")\n",
      "      --include-3p-utr         include 3p_utr.fna (3'-UTR sequence file)\n",
      "      --include-5p-utr         include 5p_utr.fna (5'-UTR sequence file)\n",
      "      --include-cds            include cds.fna (CDS sequence file)\n",
      "      --no-progressbar         hide progress bar\n",
      "      --taxon-filter strings   limit results to ortholog data for a specified taxonomic group\n",
      "\n",
      "\n"
     ]
    },
    {
     "name": "stdout",
     "output_type": "stream",
     "text": [
      "10178784\n",
      "Found 6 genes in set\n",
      "10178785\n",
      "Found 15 genes in set\n",
      "10178786\n"
     ]
    },
    {
     "name": "stderr",
     "output_type": "stream",
     "text": [
      "Error: no valid NCBI gene identifiers, exiting\n",
      "Usage\n",
      "  datasets download ortholog gene-id <gene-id> [flags]\n",
      "\n",
      "Examples\n",
      "  datasets download ortholog gene-id 672\n",
      "\n",
      "Flags\n",
      "  -h, --help               help for gene-id\n",
      "  -i, --inputfile string   read a list of NCBI Gene IDs from a file to use as input\n",
      "\n",
      "\n",
      "Global Flags\n",
      "      --api-key string         NCBI Datasets API Key\n",
      "      --exclude-gene           exclude gene.fna (gene sequence file)\n",
      "      --exclude-protein        exclude protein.faa (protein sequence file)\n",
      "      --exclude-rna            exclude rna.fna (transcript sequence file)\n",
      "      --filename string        specify a custom file name for the downloaded dataset (default \"ncbi_dataset.zip\")\n",
      "      --include-3p-utr         include 3p_utr.fna (3'-UTR sequence file)\n",
      "      --include-5p-utr         include 5p_utr.fna (5'-UTR sequence file)\n",
      "      --include-cds            include cds.fna (CDS sequence file)\n",
      "      --no-progressbar         hide progress bar\n",
      "      --taxon-filter strings   limit results to ortholog data for a specified taxonomic group\n",
      "\n",
      "\n"
     ]
    },
    {
     "name": "stdout",
     "output_type": "stream",
     "text": [
      "10178787\n",
      "Found 9 genes in set\n",
      "10178788\n"
     ]
    },
    {
     "name": "stderr",
     "output_type": "stream",
     "text": [
      "Error: no valid NCBI gene identifiers, exiting\n",
      "Usage\n",
      "  datasets download ortholog gene-id <gene-id> [flags]\n",
      "\n",
      "Examples\n",
      "  datasets download ortholog gene-id 672\n",
      "\n",
      "Flags\n",
      "  -h, --help               help for gene-id\n",
      "  -i, --inputfile string   read a list of NCBI Gene IDs from a file to use as input\n",
      "\n",
      "\n",
      "Global Flags\n",
      "      --api-key string         NCBI Datasets API Key\n",
      "      --exclude-gene           exclude gene.fna (gene sequence file)\n",
      "      --exclude-protein        exclude protein.faa (protein sequence file)\n",
      "      --exclude-rna            exclude rna.fna (transcript sequence file)\n",
      "      --filename string        specify a custom file name for the downloaded dataset (default \"ncbi_dataset.zip\")\n",
      "      --include-3p-utr         include 3p_utr.fna (3'-UTR sequence file)\n",
      "      --include-5p-utr         include 5p_utr.fna (5'-UTR sequence file)\n",
      "      --include-cds            include cds.fna (CDS sequence file)\n",
      "      --no-progressbar         hide progress bar\n",
      "      --taxon-filter strings   limit results to ortholog data for a specified taxonomic group\n",
      "\n",
      "\n"
     ]
    },
    {
     "name": "stdout",
     "output_type": "stream",
     "text": [
      "10178789\n"
     ]
    },
    {
     "name": "stderr",
     "output_type": "stream",
     "text": [
      "Error: no valid NCBI gene identifiers, exiting\n",
      "Usage\n",
      "  datasets download ortholog gene-id <gene-id> [flags]\n",
      "\n",
      "Examples\n",
      "  datasets download ortholog gene-id 672\n",
      "\n",
      "Flags\n",
      "  -h, --help               help for gene-id\n",
      "  -i, --inputfile string   read a list of NCBI Gene IDs from a file to use as input\n",
      "\n",
      "\n",
      "Global Flags\n",
      "      --api-key string         NCBI Datasets API Key\n",
      "      --exclude-gene           exclude gene.fna (gene sequence file)\n",
      "      --exclude-protein        exclude protein.faa (protein sequence file)\n",
      "      --exclude-rna            exclude rna.fna (transcript sequence file)\n",
      "      --filename string        specify a custom file name for the downloaded dataset (default \"ncbi_dataset.zip\")\n",
      "      --include-3p-utr         include 3p_utr.fna (3'-UTR sequence file)\n",
      "      --include-5p-utr         include 5p_utr.fna (5'-UTR sequence file)\n",
      "      --include-cds            include cds.fna (CDS sequence file)\n",
      "      --no-progressbar         hide progress bar\n",
      "      --taxon-filter strings   limit results to ortholog data for a specified taxonomic group\n",
      "\n",
      "\n"
     ]
    },
    {
     "name": "stdout",
     "output_type": "stream",
     "text": [
      "10178791\n"
     ]
    },
    {
     "name": "stderr",
     "output_type": "stream",
     "text": [
      "Error: no valid NCBI gene identifiers, exiting\n",
      "Usage\n",
      "  datasets download ortholog gene-id <gene-id> [flags]\n",
      "\n",
      "Examples\n",
      "  datasets download ortholog gene-id 672\n",
      "\n",
      "Flags\n",
      "  -h, --help               help for gene-id\n",
      "  -i, --inputfile string   read a list of NCBI Gene IDs from a file to use as input\n",
      "\n",
      "\n",
      "Global Flags\n",
      "      --api-key string         NCBI Datasets API Key\n",
      "      --exclude-gene           exclude gene.fna (gene sequence file)\n",
      "      --exclude-protein        exclude protein.faa (protein sequence file)\n",
      "      --exclude-rna            exclude rna.fna (transcript sequence file)\n",
      "      --filename string        specify a custom file name for the downloaded dataset (default \"ncbi_dataset.zip\")\n",
      "      --include-3p-utr         include 3p_utr.fna (3'-UTR sequence file)\n",
      "      --include-5p-utr         include 5p_utr.fna (5'-UTR sequence file)\n",
      "      --include-cds            include cds.fna (CDS sequence file)\n",
      "      --no-progressbar         hide progress bar\n",
      "      --taxon-filter strings   limit results to ortholog data for a specified taxonomic group\n",
      "\n",
      "\n"
     ]
    },
    {
     "name": "stdout",
     "output_type": "stream",
     "text": [
      "10178792\n",
      "Found 12 genes in set\n",
      "10178793\n",
      "Found 16 genes in set\n",
      "10178795\n",
      "Found 16 genes in set\n",
      "10178796\n",
      "Found 33 genes in set\n",
      "10178797\n",
      "Found 20 genes in set\n",
      "10178798\n"
     ]
    },
    {
     "name": "stderr",
     "output_type": "stream",
     "text": [
      "Error: no valid NCBI gene identifiers, exiting\n",
      "Usage\n",
      "  datasets download ortholog gene-id <gene-id> [flags]\n",
      "\n",
      "Examples\n",
      "  datasets download ortholog gene-id 672\n",
      "\n",
      "Flags\n",
      "  -h, --help               help for gene-id\n",
      "  -i, --inputfile string   read a list of NCBI Gene IDs from a file to use as input\n",
      "\n",
      "\n",
      "Global Flags\n",
      "      --api-key string         NCBI Datasets API Key\n",
      "      --exclude-gene           exclude gene.fna (gene sequence file)\n",
      "      --exclude-protein        exclude protein.faa (protein sequence file)\n",
      "      --exclude-rna            exclude rna.fna (transcript sequence file)\n",
      "      --filename string        specify a custom file name for the downloaded dataset (default \"ncbi_dataset.zip\")\n",
      "      --include-3p-utr         include 3p_utr.fna (3'-UTR sequence file)\n",
      "      --include-5p-utr         include 5p_utr.fna (5'-UTR sequence file)\n",
      "      --include-cds            include cds.fna (CDS sequence file)\n",
      "      --no-progressbar         hide progress bar\n",
      "      --taxon-filter strings   limit results to ortholog data for a specified taxonomic group\n",
      "\n",
      "\n"
     ]
    },
    {
     "ename": "CalledProcessError",
     "evalue": "Command 'b'# download an ortholog data package per gene-id. We will be using a reduced set (`head -n20`) as example:\\n\\nrm -r orthologs; #if the folder orthologs exist, remove it.\\nmkdir orthologs; # create the folder orthologs.\\n\\nhead -n20 dmel_gene-ids.txt | while read GENEID; do echo ${GENEID}; \\ndatasets download ortholog gene-id \"${GENEID}\" \\\\\\n--include-cds \\\\\\n--filename ./orthologs/$GENEID.zip \\\\\\n--taxon-filter 7215 --no-progressbar; \\\\\\ndone\\n'' returned non-zero exit status 1.",
     "output_type": "error",
     "traceback": [
      "\u001b[0;31m---------------------------------------------------------------------------\u001b[0m",
      "\u001b[0;31mCalledProcessError\u001b[0m                        Traceback (most recent call last)",
      "Input \u001b[0;32mIn [9]\u001b[0m, in \u001b[0;36m<cell line: 1>\u001b[0;34m()\u001b[0m\n\u001b[0;32m----> 1\u001b[0m \u001b[43mget_ipython\u001b[49m\u001b[43m(\u001b[49m\u001b[43m)\u001b[49m\u001b[38;5;241;43m.\u001b[39;49m\u001b[43mrun_cell_magic\u001b[49m\u001b[43m(\u001b[49m\u001b[38;5;124;43m'\u001b[39;49m\u001b[38;5;124;43mbash\u001b[39;49m\u001b[38;5;124;43m'\u001b[39;49m\u001b[43m,\u001b[49m\u001b[43m \u001b[49m\u001b[38;5;124;43m'\u001b[39;49m\u001b[38;5;124;43m'\u001b[39;49m\u001b[43m,\u001b[49m\u001b[43m \u001b[49m\u001b[38;5;124;43m'\u001b[39;49m\u001b[38;5;124;43m# download an ortholog data package per gene-id. We will be using a reduced set (`head -n20`) as example:\u001b[39;49m\u001b[38;5;130;43;01m\\n\u001b[39;49;00m\u001b[38;5;130;43;01m\\n\u001b[39;49;00m\u001b[38;5;124;43mrm -r orthologs; #if the folder orthologs exist, remove it.\u001b[39;49m\u001b[38;5;130;43;01m\\n\u001b[39;49;00m\u001b[38;5;124;43mmkdir orthologs; # create the folder orthologs.\u001b[39;49m\u001b[38;5;130;43;01m\\n\u001b[39;49;00m\u001b[38;5;130;43;01m\\n\u001b[39;49;00m\u001b[38;5;124;43mhead -n20 dmel_gene-ids.txt | while read GENEID; do echo $\u001b[39;49m\u001b[38;5;132;43;01m{GENEID}\u001b[39;49;00m\u001b[38;5;124;43m; \u001b[39;49m\u001b[38;5;130;43;01m\\n\u001b[39;49;00m\u001b[38;5;124;43mdatasets download ortholog gene-id \u001b[39;49m\u001b[38;5;124;43m\"\u001b[39;49m\u001b[38;5;124;43m$\u001b[39;49m\u001b[38;5;132;43;01m{GENEID}\u001b[39;49;00m\u001b[38;5;124;43m\"\u001b[39;49m\u001b[38;5;124;43m \u001b[39;49m\u001b[38;5;130;43;01m\\\\\u001b[39;49;00m\u001b[38;5;130;43;01m\\n\u001b[39;49;00m\u001b[38;5;124;43m--include-cds \u001b[39;49m\u001b[38;5;130;43;01m\\\\\u001b[39;49;00m\u001b[38;5;130;43;01m\\n\u001b[39;49;00m\u001b[38;5;124;43m--filename ./orthologs/$GENEID.zip \u001b[39;49m\u001b[38;5;130;43;01m\\\\\u001b[39;49;00m\u001b[38;5;130;43;01m\\n\u001b[39;49;00m\u001b[38;5;124;43m--taxon-filter 7215 --no-progressbar; \u001b[39;49m\u001b[38;5;130;43;01m\\\\\u001b[39;49;00m\u001b[38;5;130;43;01m\\n\u001b[39;49;00m\u001b[38;5;124;43mdone\u001b[39;49m\u001b[38;5;130;43;01m\\n\u001b[39;49;00m\u001b[38;5;124;43m'\u001b[39;49m\u001b[43m)\u001b[49m\n",
      "File \u001b[0;32m/opt/tljh/user/lib/python3.9/site-packages/IPython/core/interactiveshell.py:2358\u001b[0m, in \u001b[0;36mInteractiveShell.run_cell_magic\u001b[0;34m(self, magic_name, line, cell)\u001b[0m\n\u001b[1;32m   2356\u001b[0m \u001b[38;5;28;01mwith\u001b[39;00m \u001b[38;5;28mself\u001b[39m\u001b[38;5;241m.\u001b[39mbuiltin_trap:\n\u001b[1;32m   2357\u001b[0m     args \u001b[38;5;241m=\u001b[39m (magic_arg_s, cell)\n\u001b[0;32m-> 2358\u001b[0m     result \u001b[38;5;241m=\u001b[39m \u001b[43mfn\u001b[49m\u001b[43m(\u001b[49m\u001b[38;5;241;43m*\u001b[39;49m\u001b[43margs\u001b[49m\u001b[43m,\u001b[49m\u001b[43m \u001b[49m\u001b[38;5;241;43m*\u001b[39;49m\u001b[38;5;241;43m*\u001b[39;49m\u001b[43mkwargs\u001b[49m\u001b[43m)\u001b[49m\n\u001b[1;32m   2359\u001b[0m \u001b[38;5;28;01mreturn\u001b[39;00m result\n",
      "File \u001b[0;32m/opt/tljh/user/lib/python3.9/site-packages/IPython/core/magics/script.py:153\u001b[0m, in \u001b[0;36mScriptMagics._make_script_magic.<locals>.named_script_magic\u001b[0;34m(line, cell)\u001b[0m\n\u001b[1;32m    151\u001b[0m \u001b[38;5;28;01melse\u001b[39;00m:\n\u001b[1;32m    152\u001b[0m     line \u001b[38;5;241m=\u001b[39m script\n\u001b[0;32m--> 153\u001b[0m \u001b[38;5;28;01mreturn\u001b[39;00m \u001b[38;5;28;43mself\u001b[39;49m\u001b[38;5;241;43m.\u001b[39;49m\u001b[43mshebang\u001b[49m\u001b[43m(\u001b[49m\u001b[43mline\u001b[49m\u001b[43m,\u001b[49m\u001b[43m \u001b[49m\u001b[43mcell\u001b[49m\u001b[43m)\u001b[49m\n",
      "File \u001b[0;32m/opt/tljh/user/lib/python3.9/site-packages/IPython/core/magics/script.py:305\u001b[0m, in \u001b[0;36mScriptMagics.shebang\u001b[0;34m(self, line, cell)\u001b[0m\n\u001b[1;32m    300\u001b[0m \u001b[38;5;28;01mif\u001b[39;00m args\u001b[38;5;241m.\u001b[39mraise_error \u001b[38;5;129;01mand\u001b[39;00m p\u001b[38;5;241m.\u001b[39mreturncode \u001b[38;5;241m!=\u001b[39m \u001b[38;5;241m0\u001b[39m:\n\u001b[1;32m    301\u001b[0m     \u001b[38;5;66;03m# If we get here and p.returncode is still None, we must have\u001b[39;00m\n\u001b[1;32m    302\u001b[0m     \u001b[38;5;66;03m# killed it but not yet seen its return code. We don't wait for it,\u001b[39;00m\n\u001b[1;32m    303\u001b[0m     \u001b[38;5;66;03m# in case it's stuck in uninterruptible sleep. -9 = SIGKILL\u001b[39;00m\n\u001b[1;32m    304\u001b[0m     rc \u001b[38;5;241m=\u001b[39m p\u001b[38;5;241m.\u001b[39mreturncode \u001b[38;5;129;01mor\u001b[39;00m \u001b[38;5;241m-\u001b[39m\u001b[38;5;241m9\u001b[39m\n\u001b[0;32m--> 305\u001b[0m     \u001b[38;5;28;01mraise\u001b[39;00m CalledProcessError(rc, cell)\n",
      "\u001b[0;31mCalledProcessError\u001b[0m: Command 'b'# download an ortholog data package per gene-id. We will be using a reduced set (`head -n20`) as example:\\n\\nrm -r orthologs; #if the folder orthologs exist, remove it.\\nmkdir orthologs; # create the folder orthologs.\\n\\nhead -n20 dmel_gene-ids.txt | while read GENEID; do echo ${GENEID}; \\ndatasets download ortholog gene-id \"${GENEID}\" \\\\\\n--include-cds \\\\\\n--filename ./orthologs/$GENEID.zip \\\\\\n--taxon-filter 7215 --no-progressbar; \\\\\\ndone\\n'' returned non-zero exit status 1."
     ]
    }
   ],
   "source": [
    "%%bash\n",
    "# download an ortholog data package per gene-id. We will be using a reduced set (`head -n20`) as example:\n",
    "\n",
    "rm -r orthologs; #if the folder orthologs exist, remove it.\n",
    "mkdir orthologs; # create the folder orthologs.\n",
    "\n",
    "head -n20 dmel_gene-ids.txt | while read GENEID; do echo ${GENEID}; \n",
    "datasets download ortholog gene-id \"${GENEID}\" \\\n",
    "--include-cds \\\n",
    "--filename ./orthologs/$GENEID.zip \\\n",
    "--taxon-filter 7215 --no-progressbar; \\\n",
    "done"
   ]
  },
  {
   "cell_type": "markdown",
   "id": "90bf835c",
   "metadata": {},
   "source": [
    "If you look at the output above, you will notice not all gene-ids were part of ortholog sets (`Error: no valid NCBI gene identifiers, exiting`). Let's check the number of ortholog sets downloaded."
   ]
  },
  {
   "cell_type": "code",
   "execution_count": 10,
   "id": "c295a289",
   "metadata": {},
   "outputs": [
    {
     "name": "stdout",
     "output_type": "stream",
     "text": [
      "10178777.zip\n",
      "10178781.zip\n",
      "10178782.zip\n",
      "10178784.zip\n",
      "10178785.zip\n",
      "10178787.zip\n",
      "10178792.zip\n",
      "10178793.zip\n",
      "10178795.zip\n",
      "10178796.zip\n",
      "10178797.zip\n"
     ]
    }
   ],
   "source": [
    "%%bash\n",
    "\n",
    "ls orthologs"
   ]
  },
  {
   "cell_type": "markdown",
   "id": "7c0dec6d",
   "metadata": {},
   "source": [
    "Now, let's unzip one of those data packages and check its content:"
   ]
  },
  {
   "cell_type": "code",
   "execution_count": 11,
   "id": "f1498b28",
   "metadata": {},
   "outputs": [
    {
     "name": "stdout",
     "output_type": "stream",
     "text": [
      "Archive:  orthologs/10178777.zip\n",
      "  inflating: 10178777/README.md      \n",
      "  inflating: 10178777/ncbi_dataset/data/gene.fna  \n",
      "  inflating: 10178777/ncbi_dataset/data/rna.fna  \n",
      "  inflating: 10178777/ncbi_dataset/data/protein.faa  \n",
      "  inflating: 10178777/ncbi_dataset/data/cds.fna  \n",
      "  inflating: 10178777/ncbi_dataset/data/data_report.jsonl  \n",
      "  inflating: 10178777/ncbi_dataset/data/data_table.tsv  \n",
      "  inflating: 10178777/ncbi_dataset/data/dataset_catalog.json  \n"
     ]
    }
   ],
   "source": [
    "%%bash\n",
    "\n",
    "unzip orthologs/10178777.zip -d 10178777"
   ]
  },
  {
   "cell_type": "markdown",
   "id": "36220de8",
   "metadata": {},
   "source": [
    "Let's use the command `tree` to check the folder hierarchy in a easier way."
   ]
  },
  {
   "cell_type": "code",
   "execution_count": 12,
   "id": "ee7073d6",
   "metadata": {},
   "outputs": [
    {
     "name": "stdout",
     "output_type": "stream",
     "text": [
      "10178777/\n",
      "├── README.md\n",
      "└── ncbi_dataset\n",
      "    └── data\n",
      "        ├── cds.fna\n",
      "        ├── data_report.jsonl\n",
      "        ├── data_table.tsv\n",
      "        ├── dataset_catalog.json\n",
      "        ├── gene.fna\n",
      "        ├── protein.faa\n",
      "        └── rna.fna\n",
      "\n",
      "2 directories, 8 files\n"
     ]
    }
   ],
   "source": [
    "%%bash\n",
    "tree 10178777/"
   ]
  },
  {
   "cell_type": "markdown",
   "id": "c6a14b88",
   "metadata": {},
   "source": [
    "The in the `data`folder, you will find all files: data and metadata files:\n",
    "- FASTA sequences (CDS, gene, protein and RNA); \n",
    "- `data_report.jsonl`: metadata file describing the genes included in the data package. \n",
    "- `dataset_catalog.json`: lists all files included in the data package\n",
    "- `data_table`: TSV file with a subset of the metadata from the `data_report.jsonl`\n",
    "\n",
    "In the next section, we will take a closer look at the metadata files. "
   ]
  },
  {
   "cell_type": "markdown",
   "id": "ee145803",
   "metadata": {},
   "source": [
    "⬆︎[back to top](#top)"
   ]
  },
  {
   "cell_type": "markdown",
   "id": "299dc9d9",
   "metadata": {},
   "source": [
    "## Part IV: Accessing metadata<a class=\"anchor\" id=\"Part-IV\"></a>\n"
   ]
  },
  {
   "cell_type": "markdown",
   "id": "dd676b9b",
   "metadata": {},
   "source": [
    "For the JSON-Lines metadata files included with the data packages, you have the option of using `dataformat` instead of `jq` to extract metadata information. `dataformat`is a `datasets`companion tool and it allows you to export metadata information to tabular or Excel format. We are working to make `dataformat` compatible with all `datasets summary` command options (currently, it works only with `datasets summary virus`).\n",
    "\n",
    "Here, we will use `dataformat` to extract the following info from each ortholog data package: organism, accession, CDS range start and CDS range end. You can find more info about the `dataformat`fields for gene in [our documentation page](https://www.ncbi.nlm.nih.gov/datasets/docs/v1/reference-docs/command-line/dataformat/tsv/dataformat_tsv_gene/)"
   ]
  },
  {
   "cell_type": "code",
   "execution_count": 13,
   "id": "22330aa1",
   "metadata": {},
   "outputs": [
    {
     "name": "stdout",
     "output_type": "stream",
     "text": [
      "Taxonomic Name           Genomic Range Sequence Accession  Genomic Range Start  Genomic Range Stop\r\n",
      "Drosophila melanogaster  NT_033777.3                       17420638             17420989\r\n",
      "Drosophila biarmipes     NW_025319173.1                    23563281             23563646\r\n",
      "Drosophila rhopaloa      NW_025335059.1                    2369786              2370166\r\n",
      "Drosophila takahashii    NW_025323511.1                    10203538             10203894\r\n",
      "Drosophila eugracilis    NW_024573645.1                    1690150              1690521\r\n",
      "Drosophila elegans       NW_024545863.1                    5457384              5457919\r\n",
      "Drosophila mauritiana    NC_046670.1                       9555695              9556075\r\n",
      "Drosophila suzukii       NW_023496835.1                    1607206              1607604\r\n",
      "Drosophila santomea      NC_053019.2                       17363835             17364169\r\n",
      "Drosophila teissieri     NC_053032.1                       11934060             11934395\r\n",
      "Drosophila erecta        NW_020825194.1                    20162666             20163001\r\n",
      "Drosophila yakuba        NC_052530.2                       19131123             19131734\r\n",
      "Drosophila sechellia     NC_045952.1                       11198746             11199155\r\n",
      "Drosophila simulans      NC_052523.2                       8821533              8821994\r\n"
     ]
    }
   ],
   "source": [
    "!dataformat tsv gene \\\n",
    "--package orthologs/10178777.zip \\\n",
    "--fields tax-name,genomic-range-accession,genomic-range-range-start,genomic-range-range-stop |\\\n",
    "column -t -s$'\\t' #added to align all the columns and make the visualization easier. But not really needed."
   ]
  },
  {
   "cell_type": "markdown",
   "id": "29dc59a7",
   "metadata": {},
   "source": [
    "If we prefer to use `jq`, here's how to achieve the same result."
   ]
  },
  {
   "cell_type": "code",
   "execution_count": 14,
   "id": "c881cce4",
   "metadata": {},
   "outputs": [
    {
     "name": "stdout",
     "output_type": "stream",
     "text": [
      "Drosophila melanogaster\tNT_033777.3\t17420638\t17420989\n",
      "Drosophila biarmipes\tNW_025319173.1\t23563281\t23563646\n",
      "Drosophila rhopaloa\tNW_025335059.1\t2369786\t2370166\n",
      "Drosophila takahashii\tNW_025323511.1\t10203538\t10203894\n",
      "Drosophila eugracilis\tNW_024573645.1\t1690150\t1690521\n",
      "Drosophila elegans\tNW_024545863.1\t5457384\t5457919\n",
      "Drosophila mauritiana\tNC_046670.1\t9555695\t9556075\n",
      "Drosophila suzukii\tNW_023496835.1\t1607206\t1607604\n",
      "Drosophila santomea\tNC_053019.2\t17363835\t17364169\n",
      "Drosophila teissieri\tNC_053032.1\t11934060\t11934395\n",
      "Drosophila erecta\tNW_020825194.1\t20162666\t20163001\n",
      "Drosophila yakuba\tNC_052530.2\t19131123\t19131734\n",
      "Drosophila sechellia\tNC_045952.1\t11198746\t11199155\n",
      "Drosophila simulans\tNC_052523.2\t8821533\t8821994\n"
     ]
    }
   ],
   "source": [
    "%%bash\n",
    "\n",
    "cat 10178777/ncbi_dataset/data/data_report.jsonl | jq -r '[.taxname,\n",
    ".genomicRanges[].accessionVersion,\n",
    ".genomicRanges[].range[].begin,\n",
    ".genomicRanges[].range[].end] | @tsv'"
   ]
  },
  {
   "cell_type": "markdown",
   "id": "65df2eb4",
   "metadata": {},
   "source": [
    "Useful tip: if you want to extract a list of all fields from any JSON file, you can use the code in the cell below. Notice that the field names are missing a period (\".\") in the beginning, so don't forget to add that when you use the info from this list.\n",
    "\n",
    "\n",
    "Modified from here: https://www.fabian-keller.de/blog/5-useful-jq-commands-parse-json-cli/"
   ]
  },
  {
   "cell_type": "code",
   "execution_count": 15,
   "id": "7df3f262",
   "metadata": {},
   "outputs": [
    {
     "name": "stdout",
     "output_type": "stream",
     "text": [
      "  \"annotations[].assembliesInScope[].accession\",\n",
      "  \"annotations[].assembliesInScope[].name\",\n",
      "  \"annotations[].releaseDate\",\n",
      "  \"annotations[].releaseName\",\n",
      "  \"chromosomes[]\",\n",
      "  \"commonName\",\n",
      "  \"description\",\n",
      "  \"geneId\",\n",
      "  \"genomicRanges[].accessionVersion\",\n",
      "  \"genomicRanges[].range[].begin\",\n",
      "  \"genomicRanges[].range[].end\",\n",
      "  \"genomicRanges[].range[].orientation\",\n",
      "  \"nomenclatureAuthority.authority\",\n",
      "  \"nomenclatureAuthority.identifier\",\n",
      "  \"orientation\",\n",
      "  \"symbol\",\n",
      "  \"synonyms[]\",\n",
      "  \"taxId\",\n",
      "  \"taxname\",\n",
      "  \"transcripts[].accessionVersion\",\n",
      "  \"transcripts[].cds.accessionVersion\",\n",
      "  \"transcripts[].cds.range[].begin\",\n",
      "  \"transcripts[].cds.range[].end\",\n",
      "  \"transcripts[].exons.accessionVersion\",\n",
      "  \"transcripts[].exons.range[].begin\",\n",
      "  \"transcripts[].exons.range[].end\",\n",
      "  \"transcripts[].exons.range[].order\",\n",
      "  \"transcripts[].genomicLocations[].exons[].begin\",\n",
      "  \"transcripts[].genomicLocations[].exons[].end\",\n",
      "  \"transcripts[].genomicLocations[].exons[].order\",\n",
      "  \"transcripts[].genomicLocations[].genomicAccessionVersion\",\n",
      "  \"transcripts[].genomicLocations[].genomicRange.begin\",\n",
      "  \"transcripts[].genomicLocations[].genomicRange.end\",\n",
      "  \"transcripts[].genomicLocations[].genomicRange.orientation\",\n",
      "  \"transcripts[].genomicLocations[].sequenceName\",\n",
      "  \"transcripts[].genomicRange.accessionVersion\",\n",
      "  \"transcripts[].genomicRange.range[].begin\",\n",
      "  \"transcripts[].genomicRange.range[].end\",\n",
      "  \"transcripts[].genomicRange.range[].orientation\",\n",
      "  \"transcripts[].length\",\n",
      "  \"transcripts[].protein.accessionVersion\",\n",
      "  \"transcripts[].protein.ensemblProtein\",\n",
      "  \"transcripts[].protein.length\",\n",
      "  \"transcripts[].protein.name\",\n",
      "  \"transcripts[].type\",\n",
      "  \"type\"\n",
      "[\n",
      "]\n"
     ]
    }
   ],
   "source": [
    "%%bash\n",
    "\n",
    "cat 10178777/ncbi_dataset/data/data_report.jsonl | jq 'select(objects)|=[.] \n",
    "        | map( paths(scalars) ) \n",
    "        | map( map(select(numbers)=\"[]\") \n",
    "        | join(\".\"))' | sort | uniq | sed 's/\\.\\[/\\[/g'"
   ]
  },
  {
   "cell_type": "markdown",
   "id": "1f95cc06",
   "metadata": {},
   "source": [
    "### Exercises"
   ]
  },
  {
   "cell_type": "markdown",
   "id": "5fda7d24",
   "metadata": {},
   "source": [
    "Use `dataformat` to extract metadata from another data package. Remember that `dataformat` accepts both zip packages (`--package`) and data reports (`--inputfile`) as inputs, so no need to unzip anything.  \n",
    "\n",
    "Also, instead of using `%%bash`, please use an exclamation mark `!` in front of the command."
   ]
  },
  {
   "cell_type": "code",
   "execution_count": null,
   "id": "8c37525c",
   "metadata": {},
   "outputs": [],
   "source": [
    "!dataformat \n",
    "\n"
   ]
  },
  {
   "cell_type": "code",
   "execution_count": null,
   "id": "b7c022f5",
   "metadata": {},
   "outputs": [],
   "source": []
  },
  {
   "cell_type": "markdown",
   "id": "087d1eae",
   "metadata": {},
   "source": [
    "⬆︎[back to top](#top)"
   ]
  }
 ],
 "metadata": {
  "kernelspec": {
   "display_name": "Python 3 (ipykernel)",
   "language": "python",
   "name": "python3"
  },
  "language_info": {
   "codemirror_mode": {
    "name": "ipython",
    "version": 3
   },
   "file_extension": ".py",
   "mimetype": "text/x-python",
   "name": "python",
   "nbconvert_exporter": "python",
   "pygments_lexer": "ipython3",
   "version": "3.9.13"
  }
 },
 "nbformat": 4,
 "nbformat_minor": 5
}
