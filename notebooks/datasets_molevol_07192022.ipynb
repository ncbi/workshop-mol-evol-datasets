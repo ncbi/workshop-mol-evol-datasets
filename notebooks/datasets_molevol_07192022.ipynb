{
 "cells": [
  {
   "cell_type": "markdown",
   "id": "a17a866f",
   "metadata": {},
   "source": [
    "# NCBI Datasets (07/21/2022)"
   ]
  },
  {
   "cell_type": "markdown",
   "id": "26f69883",
   "metadata": {},
   "source": [
    "### Table of contents <a class=\"anchor\" id=\"top\"></a>\n",
    "* [Part I: Introduction to NCBI Datasets](#Part-I) \n",
    "* [Part II: Getting a list of gene-ids per species](#Part-II)\n",
    "* [Part III: Getting ortholog data packages from a list of gene-ids](#Part-III)\n",
    "* [Part IV: Closer look at the ortholog metadata files](#Part-IV)"
   ]
  },
  {
   "cell_type": "markdown",
   "id": "d60a05cb",
   "metadata": {},
   "source": [
    "## Part I: Introduction to NCBI Datasets<a class=\"anchor\" id=\"Part-I\"></a>"
   ]
  },
  {
   "cell_type": "markdown",
   "id": "8b785d5b",
   "metadata": {},
   "source": [
    "### How is `datasets` organized?\n",
    "\n",
    "[NCBI datasets](https://www.ncbi.nlm.nih.gov/datasets/docs/v1/download-and-install/) is a command line tool that allows users to download data packages (data + metadata) or look at metadata summaries for genomes, RefSeq annotated genes, curated ortholog sets and SARS-Cov-2 virus sequences and proteins. The program follows a hierarchy that makes it easier for users to select exact which options they would like to use. In addition to the program commands, additional flags are available for filtering the results. We will go over those during this tutorial.\n",
    "<img src=\"https://www.ncbi.nlm.nih.gov/datasets/docs/v1/datasets_schema_complete.svg\" alt=\"datasets\" style=\"width: 800px;\"/>"
   ]
  },
  {
   "cell_type": "markdown",
   "id": "54d048ca",
   "metadata": {},
   "source": [
    "In addition to `datasets`, we will be using `jq` (JSON parser) and `dataformat`, a `datasets`companion tool, to take a look at the metadata information. Our metadata reports are almost all in JSON or [JSON Lines](https://jsonlines.org/) format. We put together a [jq cheat sheet]( https://github.com/ncbi/datasets/blob/workshop-cshl-2021/training/cshl-2021/jq_cheatsheet.md) to help you extract information from those files.  "
   ]
  },
  {
   "cell_type": "markdown",
   "id": "c7f190f7",
   "metadata": {},
   "source": [
    "For example: if I want to download the cat reference genome (<i>Felis catus</i>), I would use the command below:"
   ]
  },
  {
   "cell_type": "code",
   "execution_count": null,
   "id": "2e1c62b3",
   "metadata": {},
   "outputs": [],
   "source": [
    "%%bash\n",
    "#Download the monarch butterfly (taxid 13037) reference genome, with associated annotation files and metadata\n",
    "\n",
    "datasets download genome taxon 13037 --reference --no-progressbar\n"
   ]
  },
  {
   "cell_type": "markdown",
   "id": "7c7bdc70",
   "metadata": {},
   "source": [
    "Instead of downloading a data package, I could instead look at the metadata information by using the `summary`command. Here, I'm pipping it to [`jq`](https://stedolan.github.io/jq/) so it's easier to read:"
   ]
  },
  {
   "cell_type": "code",
   "execution_count": null,
   "id": "42a87f34",
   "metadata": {},
   "outputs": [],
   "source": [
    "%%bash\n",
    "#Check the metadata information for the monarch butterfly reference genome\n",
    "\n",
    "datasets summary genome taxon 13037 --reference | jq ."
   ]
  },
  {
   "cell_type": "markdown",
   "id": "cd1ac2d9",
   "metadata": {},
   "source": [
    "### Data packages"
   ]
  },
  {
   "cell_type": "markdown",
   "id": "d66b33f7",
   "metadata": {},
   "source": [
    "NCBI Datasets delivers data as <u>data packages</u>, which which are zip archives containing both data (FASTA, GFF3, GTF, GBFF) and metadata files (JSON, JSON-Lines). The image below shows the contents of all data packages. Files are included depending on their availability. For example: for an annotated genome, the data package would include FASTA files (genomic, transcript, protein and CDS sequences) and annotation files (GFF3, GTF and GBFF).\n",
    "\n",
    "\n",
    "<img src=\"./images/datapackages.png\" alt=\"data_package\" style=\"width: 800px;\"/>\n",
    "\n",
    "Currently, the `virus` option only include SARS-Cov-2 genomes and proteins. "
   ]
  },
  {
   "cell_type": "markdown",
   "id": "ed84aedf",
   "metadata": {},
   "source": [
    "### How to get help when using the command line\n",
    "\n",
    "Since `datasets` is a very hierarchical program, we can use that characteristic to our advantage to get very specific help.   For example: if we type `datasets --help`, we will see the first level of commands available.\n"
   ]
  },
  {
   "cell_type": "code",
   "execution_count": null,
   "id": "d219e750",
   "metadata": {},
   "outputs": [],
   "source": [
    "%%bash\n",
    "datasets --help"
   ]
  },
  {
   "cell_type": "markdown",
   "id": "db05f935",
   "metadata": {},
   "source": [
    "Notice the difference from when we type `datasets summary genome taxon formicidae --help`  \n"
   ]
  },
  {
   "cell_type": "code",
   "execution_count": null,
   "id": "a09930dd",
   "metadata": {
    "scrolled": true
   },
   "outputs": [],
   "source": [
    "%%bash\n",
    "    datasets summary genome taxon formicidae --help"
   ]
  },
  {
   "cell_type": "markdown",
   "id": "d3214ca5",
   "metadata": {},
   "source": [
    "### Exercises:"
   ]
  },
  {
   "cell_type": "markdown",
   "id": "d8f07c38",
   "metadata": {},
   "source": [
    "Now let's use `datasets` and `jq` to take a look at the available genomes for your taxon of interest. Use our [jq cheatsheet](https://github.com/ncbi/datasets/blob/workshop-cshl-2021/training/cshl-2021/jq_cheatsheet.md) to look at the available fields and look for the information you need. Some ideas: \n",
    "- how many genomes are available?\n",
    "- What's the contig N50?\n"
   ]
  },
  {
   "cell_type": "code",
   "execution_count": null,
   "id": "b0729b5c",
   "metadata": {},
   "outputs": [],
   "source": [
    "%%bash\n",
    "\n"
   ]
  },
  {
   "cell_type": "code",
   "execution_count": null,
   "id": "d2fd9da8",
   "metadata": {},
   "outputs": [],
   "source": [
    "%%bash\n",
    "\n"
   ]
  },
  {
   "cell_type": "code",
   "execution_count": null,
   "id": "c75eb8b6",
   "metadata": {},
   "outputs": [],
   "source": [
    "%%bash\n",
    "\n"
   ]
  },
  {
   "cell_type": "markdown",
   "id": "c8bdd31c",
   "metadata": {},
   "source": [
    "⬆︎[back to top](#top)"
   ]
  },
  {
   "cell_type": "markdown",
   "id": "92c031a1",
   "metadata": {},
   "source": [
    "## Part II: Getting a list of gene-ids per species <a class=\"anchor\" id=\"Part-II\"></a>"
   ]
  },
  {
   "cell_type": "markdown",
   "id": "5b4d055b",
   "metadata": {},
   "source": [
    "Independent of choosing `datasets download` or `datasets summary`, there are three options for retrieving gene information: <i>accession</i>, <i>gene-id</i>, and <i>symbol</i>.  \n",
    "\n",
    "When choosing any of those three options, you will retrieve the gene information for the **reference** taxon. Like this:\n",
    "\n",
    "`datasets download gene accession XR_002738142.1`  \n",
    "`datasets download gene gene-id 101081937`  \n",
    "`datasets download gene symbol BRCA1 --taxon cat`  \n",
    "\n",
    "All three commands will download the same gene from the cat (<i>Felis catus</i>) <u>reference genome</u>. \n",
    "\n",
    "- **accession**: Unique identifier. Accession includes RefSeq RNA and protein accessions. Since it's unique, taxon is implied (aka there will never be two sequences from different taxa with the same accession number).  \n",
    "\n",
    "- **gene-id**: Also a unique identifier. Every RefSeq genome annotated has a unique set of identifiers. For example: the gene-id for BRCA1 in human is 672, while in cat is 101081937.  \n",
    "\n",
    "- **symbol**: Differently from accession and gene-id, gene symbol is not unique and means different things in different taxonomic groups. If using the symbol option, you should specify the species. The default option is human.\n",
    "\n",
    "**Remember**: both `summary` and `download` will return results for the **reference assembly** of a <u>single species</u>. If you want to download a curated set of the same gene for multiple taxa, you should use the option `ortholog`. We'll talk more about it later. For reference, here's the JSON organization of the gene summary metadata. "
   ]
  },
  {
   "cell_type": "markdown",
   "id": "4b8c4f1b",
   "metadata": {},
   "source": [
    "### Now let's take a look at a gene example:\n",
    "\n",
    "<img src=\"./images/gene_json_gene-id.png\" />"
   ]
  },
  {
   "cell_type": "markdown",
   "id": "5196c345",
   "metadata": {},
   "source": [
    "We want to extract a list of gene-ids for *Drosophila melanogaster* (tax-id 7227). We will use that list later to download ortholog sets for each gene-id. Here, we will invoke the command `summary` and pipe the JSON output to `jq` to extract the complete list of gene-ids for that species.   \n",
    "If you look in the figure above and follow the numbers in the command below, you'll understand better how to build a `jq` filtering command."
   ]
  },
  {
   "cell_type": "code",
   "execution_count": null,
   "id": "6e2b6fe8",
   "metadata": {},
   "outputs": [],
   "source": [
    "%%bash\n",
    "# Get list of gene-ids for D. melanogaster and save as a txt file\n",
    "\n",
    "                                             #1     #2    #3\n",
    "datasets summary gene taxon 7227 | jq -r '.genes[].gene.gene_id' > dmel_gene-ids.txt\n"
   ]
  },
  {
   "cell_type": "markdown",
   "id": "210dffb7",
   "metadata": {},
   "source": [
    "Let's take a quick look at how many genes are annotated in <i>D. melanogaster</i>."
   ]
  },
  {
   "cell_type": "code",
   "execution_count": null,
   "id": "e748073a",
   "metadata": {},
   "outputs": [],
   "source": [
    "%%bash\n",
    "# Count the number of lines (genes) in the list\n",
    "\n",
    "wc -l dmel_gene-ids.txt"
   ]
  },
  {
   "cell_type": "markdown",
   "id": "b91c446c",
   "metadata": {},
   "source": [
    "### Exercises"
   ]
  },
  {
   "cell_type": "markdown",
   "id": "cb007c4d",
   "metadata": {},
   "source": [
    "Choose another species and look for the number of genes annotated in it. Hint: you can pipe the `wc -l` command (count number of lines) after the `jq` command that extracts the gene-ids. "
   ]
  },
  {
   "cell_type": "code",
   "execution_count": 3,
   "id": "a0d7464a",
   "metadata": {},
   "outputs": [],
   "source": [
    "%%bash\n",
    "\n",
    "\n"
   ]
  },
  {
   "cell_type": "code",
   "execution_count": null,
   "id": "38738495",
   "metadata": {},
   "outputs": [],
   "source": []
  },
  {
   "cell_type": "markdown",
   "id": "3bd53d3f",
   "metadata": {},
   "source": [
    "⬆︎[back to top](#top)"
   ]
  },
  {
   "cell_type": "markdown",
   "id": "c908cc8b",
   "metadata": {},
   "source": [
    "## Part III: Accessing orthologs <a class=\"anchor\" id=\"Part-III\"></a>\n",
    "\n",
    "### Orthologs\n",
    "\n",
    "The options to retrieve ortholog sets are the same as those for genes. We'll go over the differences when using each option: <i>accession</i>, <i>gene-id</i>, and <i>symbol</i>.   \n",
    "\n",
    "When choosing any of those three options, you will download the **full ortholog set** to which they belong (unless you use additional filtering. We'll cover it below). Like this:\n",
    "\n",
    "`datasets download ortholog accession XR_002738142.1`  \n",
    "`datasets download ortholog gene-id 101081937`  \n",
    "`datasets download ortholog symbol BRCA1 --taxon cat`  \n",
    "\n",
    "All three commands will download the **same** ortholog set. \n",
    "\n",
    "---\n",
    "\n",
    "#### <font color='blue'>Wait, but what is an ortholog set?</font>\n",
    "\n",
    ">An ortholog set, or ortholog gene group, is a group of sequences that have been identified by the NCBI genome annotation team as homologous genes related to each other by speciation events. They are identified by a combination of protein similarity + local syntheny information. \n",
    "Currently, NCBI has ortholog sets calculated for vertebrates and some insects. \n",
    "---\n",
    "\n",
    "- **accession**: Unique identifier. Accession includes RefSeq accession RNA and protein sequences. Since it's unique, taxon is implied (aka there will never be two sequences from different taxa with the same accession number).\n",
    "\n",
    "- **gene-id**:  Also an unique identifier. Every RefSeq genome annotated has a unique set of identifiers. For example: the gene-id for BRCA1 in human is 672, while in cat is 101081937. You can use either one (672 or 101081937) to get the same vertebrate BRCA1 ortholog set.\n",
    "\n",
    "- **symbol**: Differently from accession and gene-id, gene symbol is not unique and means different things in different taxonomic groups. For example: the P53 ortholog set in vertebrates is different from the insect set. If using the symbol option, you should specify the taxonomic group. The default option is human. Note that if you want ortholog sets from multiple vertebrate species, you might end up downloading the same ortholog set multiple times. Like this: \n",
    "\n",
    "`datasets download ortholog symbol brca1 --taxon cat`  \n",
    "`datasets download ortholog symbol brca1 --taxon chicken`  \n",
    "`datasets download ortholog symbol brca1 --taxon \"chelonia mydas\"`  \n",
    "\n",
    "If that's the case, how do you filter the ortholog set to include *only* your taxonomic group of interest?\n",
    "\n",
    "### Applying a taxonomic filter to the ortholog set\n",
    "\n",
    "For the orthologs, `datasets` provides the flag `--taxon-filter`, which allows the user to restrict the summary or download to one or multiple taxonomic groups.  `--taxon` and `--taxon-filter` have different effects on the data package/summary output. A few examples:\n",
    "\n",
    "- `datasets summary ortholog symbol brca1 --taxon-filter \"felis catus\"`  \n",
    "Prints a json metadata summary of the gene brca1 for the domestic cat. \n",
    "We did not specify a `--taxon` because the default is human, and Felidae and human are part of the same brca1 ortholog set.   \n",
    "\n",
    "  \n",
    "\n",
    "- `datasets summary ortholog symbol brca1 --taxon \"felis catus\"`  \n",
    "Even though this option looks almost the same as the one above, the result is *very different*. Here, we're asking `datasets` to find the ortholog set to which the gene brca1 in the domestic cat belongs. And `datasets` will download the <u>entire</u> ortholog set, not only the sequences for the domestic cat.\n",
    "\n",
    "\n",
    "- `datasets summary ortholog symbol brca1 --taxon \"felis catus\" --taxon-filter \"felis catus\"`  \n",
    "gives you the same result as `datasets summary ortholog symbol brca1 --taxon-filter \"felis catus\"`\n",
    "\n",
    "\n",
    "The summary metadata for orthologs is presented in JSON Lines, which means that each gene entry is in a different line. Here's the diagram to help you create queries.\n",
    "  \n",
    "<img src=\"./images/ortholog_jsonl.drawio.png\" />"
   ]
  },
  {
   "cell_type": "markdown",
   "id": "3673c066",
   "metadata": {},
   "source": [
    "#### We are going to do the following steps:\n",
    "- Use a loop to download an ortholog data package for each gene-id in the list. Since the list is too long, let's try to download only the first 20 gene-ids from the list.\n",
    "- Unzip it to the folder ortholog\n",
    "- Look at the files"
   ]
  },
  {
   "cell_type": "code",
   "execution_count": null,
   "id": "4040acda",
   "metadata": {},
   "outputs": [],
   "source": [
    "%%bash\n",
    "# download an ortholog data package per gene-id. We will be using a reduced set (`head -n20`) as example:\n",
    "\n",
    "rm -r orthologs; #if the folder orthologs exist, remove it.\n",
    "mkdir orthologs; # create the folder orthologs.\n",
    "\n",
    "head -n20 dmel_gene-ids.txt | while read GENEID; do echo ${GENEID}; \n",
    "datasets download ortholog gene-id \"${GENEID}\" \\\n",
    "--include-cds \\\n",
    "--filename ./orthologs/$GENEID.zip \\\n",
    "--taxon-filter 7215 --no-progressbar; \\\n",
    "done"
   ]
  },
  {
   "cell_type": "markdown",
   "id": "90bf835c",
   "metadata": {},
   "source": [
    "If you look at the output above, you will notice not all gene-ids were part of ortholog sets (`Error: no valid NCBI gene identifiers, exiting`). Let's check the number of ortholog sets downloaded."
   ]
  },
  {
   "cell_type": "code",
   "execution_count": null,
   "id": "c295a289",
   "metadata": {},
   "outputs": [],
   "source": [
    "%%bash\n",
    "\n",
    "ls orthologs"
   ]
  },
  {
   "cell_type": "markdown",
   "id": "7c0dec6d",
   "metadata": {},
   "source": [
    "Now, let's unzip one of those data packages and check its content:"
   ]
  },
  {
   "cell_type": "code",
   "execution_count": null,
   "id": "f1498b28",
   "metadata": {},
   "outputs": [],
   "source": [
    "%%bash\n",
    "\n",
    "unzip orthologs/10178777.zip -d 10178777"
   ]
  },
  {
   "cell_type": "markdown",
   "id": "36220de8",
   "metadata": {},
   "source": [
    "Let's use the command `tree` to check the folder hierarchy in a easier way."
   ]
  },
  {
   "cell_type": "code",
   "execution_count": null,
   "id": "ee7073d6",
   "metadata": {},
   "outputs": [],
   "source": [
    "%%bash\n",
    "tree 10178777/"
   ]
  },
  {
   "cell_type": "markdown",
   "id": "c6a14b88",
   "metadata": {},
   "source": [
    "The in the `data`folder, you will find all files: data and metadata files:\n",
    "- FASTA sequences (CDS, gene, protein and RNA); \n",
    "- `data_report.jsonl`: metadata file describing the genes included in the data package. \n",
    "- `dataset_catalog.json`: lists all files included in the data package\n",
    "- `data_table`: TSV file with a subset of the metadata from the `data_report.jsonl`\n",
    "\n",
    "In the next section, we will take a closer look at the metadata files. "
   ]
  },
  {
   "cell_type": "markdown",
   "id": "ee145803",
   "metadata": {},
   "source": [
    "⬆︎[back to top](#top)"
   ]
  },
  {
   "cell_type": "markdown",
   "id": "299dc9d9",
   "metadata": {},
   "source": [
    "## Part IV: Accessing metadata<a class=\"anchor\" id=\"Part-IV\"></a>\n"
   ]
  },
  {
   "cell_type": "markdown",
   "id": "dd676b9b",
   "metadata": {},
   "source": [
    "For the JSON-Lines metadata files included with the data packages, you have the option of using `dataformat` instead of `jq` to extract metadata information. `dataformat`is a `datasets`companion tool and it allows you to export metadata information to tabular or Excel format. We are working to make `dataformat` compatible with all `datasets summary` command options (currently, it works only with `datasets summary virus`).\n",
    "\n",
    "Here, we will use `dataformat` to extract the following info from each ortholog data package: organism, accession, CDS range start and CDS range end. You can find more info about the `dataformat`fields for gene in [our documentation page](https://www.ncbi.nlm.nih.gov/datasets/docs/v1/reference-docs/command-line/dataformat/tsv/dataformat_tsv_gene/)"
   ]
  },
  {
   "cell_type": "code",
   "execution_count": 2,
   "id": "22330aa1",
   "metadata": {},
   "outputs": [
    {
     "name": "stdout",
     "output_type": "stream",
     "text": [
      "Taxonomic Name           Genomic Range Sequence Accession  Genomic Range Start  Genomic Range Stop\r\n",
      "Drosophila melanogaster  NT_033777.3                       17420638             17420989\r\n",
      "Drosophila biarmipes     NW_025319173.1                    23563281             23563646\r\n",
      "Drosophila rhopaloa      NW_025335059.1                    2369786              2370166\r\n",
      "Drosophila takahashii    NW_025323511.1                    10203538             10203894\r\n",
      "Drosophila eugracilis    NW_024573645.1                    1690150              1690521\r\n",
      "Drosophila elegans       NW_024545863.1                    5457384              5457919\r\n",
      "Drosophila mauritiana    NC_046670.1                       9555695              9556075\r\n",
      "Drosophila suzukii       NW_023496835.1                    1607206              1607604\r\n",
      "Drosophila santomea      NC_053019.2                       17363835             17364169\r\n",
      "Drosophila teissieri     NC_053032.1                       11934060             11934395\r\n",
      "Drosophila erecta        NW_020825194.1                    20162666             20163001\r\n",
      "Drosophila yakuba        NC_052530.2                       19131123             19131734\r\n",
      "Drosophila sechellia     NC_045952.1                       11198746             11199155\r\n",
      "Drosophila simulans      NC_052523.2                       8821533              8821994\r\n"
     ]
    }
   ],
   "source": [
    "!dataformat tsv gene \\\n",
    "--package orthologs/10178777.zip \\\n",
    "--fields tax-name,genomic-range-accession,genomic-range-range-start,genomic-range-range-stop |\\\n",
    "column -t -s$'\\t' #added to align all the columns and make the visualization easier. But not really needed."
   ]
  },
  {
   "cell_type": "markdown",
   "id": "29dc59a7",
   "metadata": {},
   "source": [
    "If we prefer to use `jq`, here's how to achieve the same result."
   ]
  },
  {
   "cell_type": "code",
   "execution_count": null,
   "id": "c881cce4",
   "metadata": {},
   "outputs": [],
   "source": [
    "%%bash\n",
    "\n",
    "cat 10178777/ncbi_dataset/data/data_report.jsonl | jq -r '[.taxname,\n",
    ".genomicRanges[].accessionVersion,\n",
    ".genomicRanges[].range[].begin,\n",
    ".genomicRanges[].range[].end] | @tsv'"
   ]
  },
  {
   "cell_type": "markdown",
   "id": "65df2eb4",
   "metadata": {},
   "source": [
    "Useful tip: if you want to extract a list of all fields from any JSON file, you can use the code in the cell below. Notice that the field names are missing a period (\".\") in the beginning, so don't forget to add that when you use the info from this list.\n",
    "\n",
    "\n",
    "Modified from here: https://www.fabian-keller.de/blog/5-useful-jq-commands-parse-json-cli/"
   ]
  },
  {
   "cell_type": "code",
   "execution_count": null,
   "id": "7df3f262",
   "metadata": {},
   "outputs": [],
   "source": [
    "%%bash\n",
    "\n",
    "cat 10178777/ncbi_dataset/data/data_report.jsonl | jq 'select(objects)|=[.] \n",
    "        | map( paths(scalars) ) \n",
    "        | map( map(select(numbers)=\"[]\") \n",
    "        | join(\".\"))' | sort | uniq | sed 's/\\.\\[/\\[/g'"
   ]
  },
  {
   "cell_type": "markdown",
   "id": "1f95cc06",
   "metadata": {},
   "source": [
    "### Exercises"
   ]
  },
  {
   "cell_type": "markdown",
   "id": "5fda7d24",
   "metadata": {},
   "source": [
    "Use `dataformat` to extract metadata from another data package. Remember that `dataformat` accepts both zip packages (`--package`) and data reports (`--inputfile`) as inputs, so no need to unzip anything.  \n",
    "\n",
    "Also, instead of using `%%bash`, please use an exclamation mark `!` in front of the command."
   ]
  },
  {
   "cell_type": "code",
   "execution_count": null,
   "id": "8c37525c",
   "metadata": {},
   "outputs": [],
   "source": [
    "!dataformat \n",
    "\n"
   ]
  },
  {
   "cell_type": "code",
   "execution_count": null,
   "id": "b7c022f5",
   "metadata": {},
   "outputs": [],
   "source": []
  },
  {
   "cell_type": "markdown",
   "id": "087d1eae",
   "metadata": {},
   "source": [
    "⬆︎[back to top](#top)"
   ]
  }
 ],
 "metadata": {
  "kernelspec": {
   "display_name": "Python 3 (ipykernel)",
   "language": "python",
   "name": "python3"
  },
  "language_info": {
   "codemirror_mode": {
    "name": "ipython",
    "version": 3
   },
   "file_extension": ".py",
   "mimetype": "text/x-python",
   "name": "python",
   "nbconvert_exporter": "python",
   "pygments_lexer": "ipython3",
   "version": "3.9.13"
  }
 },
 "nbformat": 4,
 "nbformat_minor": 5
}
