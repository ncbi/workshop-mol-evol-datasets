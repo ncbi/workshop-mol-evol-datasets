{
 "cells": [
  {
   "cell_type": "code",
   "execution_count": null,
   "id": "bc946cbe",
   "metadata": {},
   "outputs": [],
   "source": [
    "import re\n",
    "import io\n",
    "import json\n",
    "import tempfile\n",
    "\n",
    "from copy import copy\n",
    "from collections import Counter\n",
    "from itertools import groupby, product, combinations\n",
    "from zipfile import ZipFile\n",
    "\n",
    "import numpy as np\n",
    "import matplotlib.pyplot as plt\n",
    "\n",
    "from Bio import SeqIO, AlignIO, codonalign\n",
    "from Bio.Align.Applications import MuscleCommandline\n",
    "from Bio.Seq import Seq, MutableSeq"
   ]
  },
  {
   "cell_type": "markdown",
   "id": "42608e4c",
   "metadata": {},
   "source": [
    "# NCBI Datasets (07/21/2022)"
   ]
  },
  {
   "cell_type": "markdown",
   "id": "26f69883",
   "metadata": {},
   "source": [
    "### Table of contents <a class=\"anchor\" id=\"top\"></a>\n",
    "1. [Jupyter Notebooks](#notebooks)\n",
    "1. [Natural selection and dN/dS](#dnds)\n",
    "1. [Introduction to NCBI Datasets](#datasets) \n",
    "1. [Getting a list of gene-ids per species](#geneids)\n",
    "1. [Getting ortholog data packages from a list of gene-ids](#orthologs)\n",
    "1. [Closer look at the ortholog metadata files](#metadata)\n",
    "1. [Reading sequence data](#sequence)\n",
    "1. [Making a sequence alignment](#alignment)\n",
    "1. [Counting substitutions](#substitutions)\n",
    "1. [Adjusting for codon usage](#codons)\n",
    "1. [Further learning](#references)"
   ]
  },
  {
   "cell_type": "markdown",
   "id": "e8069814",
   "metadata": {},
   "source": [
    "## Jupyter Notebooks<a class=\"anchor\" id=\"notebooks\"></a>"
   ]
  },
  {
   "cell_type": "markdown",
   "id": "135ea1f5",
   "metadata": {},
   "source": [
    "### What is a Jupyter notebook and what is it for?\n",
    "1. A Jupyter notebook is a document that allows you to combine code, formatted text,\n",
    "and images.\n",
    "2. Notebooks are displayed and edited in a web browser.\n",
    "3. You can edit and run the code in place and display the output.\n",
    "4. They are useful for:\n",
    "    - Exploration: you can quickly test out ideas and see the results\n",
    "    - Documentation: a Jupyter notebook constitutes a record of precisely what you\n",
    "did. (Think of it as a \"lab notebook\" for your computational \"experiments.\")\n",
    "    - Communication: Jupyter notebooks make it easy to share what you did with\n",
    "colleagues (e.g. reports for your PI, interactive examples to accompany publications)"
   ]
  },
  {
   "cell_type": "markdown",
   "id": "235e75ce",
   "metadata": {},
   "source": [
    "### Creating, editing, and running cells"
   ]
  },
  {
   "cell_type": "markdown",
   "id": "c3205a66",
   "metadata": {},
   "source": [
    "(Demo)\n",
    "\n",
    "See also, [Jupyter Notebook Cheat Sheet](https://www.datacamp.com/cheat-sheet/jupyter-notebook-cheat-sheet)"
   ]
  },
  {
   "cell_type": "markdown",
   "id": "e23fd7fa",
   "metadata": {},
   "source": [
    "### Troubleshooting the notebook"
   ]
  },
  {
   "cell_type": "markdown",
   "id": "35240d13",
   "metadata": {},
   "source": [
    "#### Undoing a change\n",
    "\n",
    "If you get an error or would like to undo a change, select the cell and\n",
    "use `CTRL-Z` (`CMD-Z` on a Mac) to undo the most recent change.\n",
    "\n",
    "#### Running cells in order\n",
    "\n",
    "Cells in a jupyter notebook can be run in any order, but they should be run from top to bottom.\n",
    "If you're getting errors, it could be because you forgot to run all the cells above the one\n",
    "you're working on.\n",
    "\n",
    "To rerun all the cells above the one you're working on:\n",
    "select the \"Cell\" drop-down menu and then click \"Run all above\".."
   ]
  },
  {
   "cell_type": "markdown",
   "id": "94be91f1",
   "metadata": {},
   "source": [
    "#### Interrupting a cell that's taking too long\n",
    "\n",
    "The code in a Jupyter notebook is run by a program called the kernel.\n",
    "Most of the time, we can ignore it, but if you get stuck, it can help to know\n",
    "how to stop or restart the kernel.\n",
    "\n",
    "Sometimes a cell is taking too long to run, either because\n",
    "you made a mistake or because the task is bigger than you expected.\n",
    "If you'd like to stop a cell from running, you can interrupt the kernel by\n",
    "hitting the square \"stop\" button next to \"Run\" at the top of the notebook."
   ]
  },
  {
   "cell_type": "markdown",
   "id": "8f1783f2",
   "metadata": {},
   "source": [
    "#### Restarting the kernel\n",
    "Sometimes, you will want Jupyter to \"forget\" the\n",
    "results of the cells you've run and start fresh.\n",
    "To restart the kernel:\n",
    "1. Click the \"Kernel\" drop-down menu at the top and select:\n",
    "\"Restart and clear output\".\n",
    "2. Go to the place in the notebook where you left off and use the \"Cell\"\n",
    "drop-down menu to \"Run all above\" to run the previous cells and get back on track."
   ]
  },
  {
   "cell_type": "markdown",
   "id": "ffbfddb6",
   "metadata": {},
   "source": [
    "#### If you would like to start over:\n",
    "\n",
    "If you change things in the notebook, can't get it to run, and want to start\n",
    "over:\n",
    "1. Select the name of the notebook \"workshop\" at the top of the page.\n",
    "2. Change the name to anything else like \"broken-notebook\".\n",
    "3. Press the save button.\n",
    "4. Click the original link that you followed to get to the notebook.\n",
    "2. Go to the place in the notebook where you left off and use the \"Cell\"\n",
    "dropdown menu to \"Run all above\" to run the previous cells and get back on track."
   ]
  },
  {
   "cell_type": "markdown",
   "id": "a4f6e84a",
   "metadata": {},
   "source": [
    "⬆︎[back to top](#top)"
   ]
  },
  {
   "cell_type": "markdown",
   "id": "8f7c447b",
   "metadata": {},
   "source": [
    "## Natural Selection and dN/dS<a class=\"anchor\" id=\"dnds\"></a>"
   ]
  },
  {
   "cell_type": "markdown",
   "id": "92188d6e",
   "metadata": {},
   "source": [
    "**Our question**: Can we detect natural selection by comparing ortholog sequences between species?\n",
    "\n",
    "**The idea**: We can compare the rates of synonymous to non-synonymous (substitutions) to look for signals of purifying (or positive) selection."
   ]
  },
  {
   "cell_type": "markdown",
   "id": "a696d512",
   "metadata": {},
   "source": [
    "### The genetic code and single-basepair substitutions\n",
    "Recall that the genetic code is redundant: multiple codons encode the same amino acid.\n",
    "As a result, not all single-basepair substitutions change the protein sequence.\n",
    "\n",
    "Example:\n",
    "\n",
    "```\n",
    "Sequence1: ACG TTG GCT\n",
    "Protein1:   T   L   A\n",
    "Sequence2: CCG TTG GCA\n",
    "Protein2:   P   L   A\n",
    "```\n",
    "\n",
    "The `A->C` mutation in the first codon is *nonsynonymous* (also called missense),\n",
    "while the `T->A` mutation in the third codon is *synonymous*."
   ]
  },
  {
   "cell_type": "markdown",
   "id": "d5d3e4c6",
   "metadata": {},
   "source": [
    "### Selection and rates of molecular evoltion:\n",
    "- The molecular clock: synonymous mutations accumulate at a constant rate\n",
    "- Purifying selection: most non-synonymous mutations are harmful and eliminated by natural selection\n",
    "- Positive selection: some non-synonymous mutations may improve fitness. These will fix at a faster-than-neutral rate\n",
    "\n",
    "We call the amount of nonsynonymous divergence between species $dN$ and synonymous divergence $dS$.\n",
    "The ratio $dN/dS$ (adjusted for codon usage) contains a signal of selection:\n",
    "- $dN/dS < 1$: strong purifying selection (meaning the gene is important and well-adapted).\n",
    "- $dN/dS \\approx 1$: relaxed purifying selection.\n",
    "- $dN/dS > 1$: strong positive selection, adaptation"
   ]
  },
  {
   "cell_type": "markdown",
   "id": "b161733f",
   "metadata": {},
   "source": [
    "We will be comparing Drosophila species with different levels of divergence across a large number of ortholog families to categorize the orthologs by dN/dS."
   ]
  },
  {
   "cell_type": "markdown",
   "id": "a8644c7b",
   "metadata": {},
   "source": [
    "### Workflow\n",
    "1. Download ortholog sequences with NCBI Datasets\n",
    "2. Read the sequences with BioPython\n",
    "3. Make a codon-aware sequence alignment with Muscle and BioPython\n",
    "4. Count substitutions between species for each ortholog\n",
    "5. Account for codon usage to compute sequence-adjusted $dN/dS$."
   ]
  },
  {
   "cell_type": "markdown",
   "id": "cf0431b8",
   "metadata": {},
   "source": [
    "⬆︎[back to top](#top)"
   ]
  },
  {
   "cell_type": "markdown",
   "id": "d60a05cb",
   "metadata": {},
   "source": [
    "## Introduction to NCBI Datasets<a class=\"anchor\" id=\"datasets\"></a>"
   ]
  },
  {
   "cell_type": "markdown",
   "id": "8b785d5b",
   "metadata": {},
   "source": [
    "### How is `datasets` organized?\n",
    "\n",
    "[NCBI datasets](https://www.ncbi.nlm.nih.gov/datasets/docs/v1/download-and-install/) is a command line tool that allows users to download data packages (data + metadata) or look at metadata summaries for genomes, RefSeq annotated genes, curated ortholog sets and SARS-Cov-2 virus sequences and proteins. The program follows a hierarchy that makes it easier for users to select exact which options they would like to use. In addition to the program commands, additional flags are available for filtering the results. We will go over those during this tutorial.\n",
    "<img src=\"https://www.ncbi.nlm.nih.gov/datasets/docs/v1/datasets_schema_complete.svg\" alt=\"datasets\" style=\"width: 800px;\"/>"
   ]
  },
  {
   "cell_type": "markdown",
   "id": "54d048ca",
   "metadata": {},
   "source": [
    "In addition to `datasets`, we will be using `jq` (JSON parser) and `dataformat`, a `datasets`companion tool, to take a look at the metadata information. Our metadata reports are almost all in JSON or [JSON Lines](https://jsonlines.org/) format. We put together a [jq cheat sheet]( https://github.com/ncbi/datasets/blob/workshop-cshl-2021/training/cshl-2021/jq_cheatsheet.md) to help you extract information from those files.  "
   ]
  },
  {
   "cell_type": "markdown",
   "id": "c7f190f7",
   "metadata": {},
   "source": [
    "For example: if I want to download the cat reference genome (<i>Felis catus</i>), I would use the command below:"
   ]
  },
  {
   "cell_type": "code",
   "execution_count": null,
   "id": "2e1c62b3",
   "metadata": {},
   "outputs": [],
   "source": [
    "%%bash\n",
    "#Download the monarch butterfly (taxid 13037) reference genome, with associated annotation files and metadata\n",
    "\n",
    "datasets download genome taxon 13037 --reference --no-progressbar\n"
   ]
  },
  {
   "cell_type": "markdown",
   "id": "7c7bdc70",
   "metadata": {},
   "source": [
    "Instead of downloading a data package, I could instead look at the metadata information by using the `summary`command. Here, I'm pipping it to [`jq`](https://stedolan.github.io/jq/) so it's easier to read:"
   ]
  },
  {
   "cell_type": "code",
   "execution_count": null,
   "id": "42a87f34",
   "metadata": {
    "scrolled": false
   },
   "outputs": [],
   "source": [
    "%%bash\n",
    "#Check the metadata information for the monarch butterfly reference genome\n",
    "\n",
    "datasets summary genome taxon 13037 --reference | jq ."
   ]
  },
  {
   "cell_type": "markdown",
   "id": "cd1ac2d9",
   "metadata": {},
   "source": [
    "### Data packages"
   ]
  },
  {
   "cell_type": "markdown",
   "id": "d66b33f7",
   "metadata": {},
   "source": [
    "NCBI Datasets delivers data as <u>data packages</u>, which which are zip archives containing both data (FASTA, GFF3, GTF, GBFF) and metadata files (JSON, JSON-Lines). The image below shows the contents of all data packages. Files are included depending on their availability. For example: for an annotated genome, the data package would include FASTA files (genomic, transcript, protein and CDS sequences) and annotation files (GFF3, GTF and GBFF).\n",
    "\n",
    "\n",
    "<img src=\"./images/datapackages.png\" alt=\"data_package\" style=\"width: 800px;\"/>\n",
    "\n",
    "Currently, the `virus` option only include SARS-Cov-2 genomes and proteins. "
   ]
  },
  {
   "cell_type": "markdown",
   "id": "ed84aedf",
   "metadata": {},
   "source": [
    "### How to get help when using the command line\n",
    "\n",
    "Since `datasets` is a very hierarchical program, we can use that characteristic to our advantage to get very specific help.   For example: if we type `datasets --help`, we will see the first level of commands available.\n"
   ]
  },
  {
   "cell_type": "code",
   "execution_count": null,
   "id": "d219e750",
   "metadata": {},
   "outputs": [],
   "source": [
    "%%bash\n",
    "datasets --help"
   ]
  },
  {
   "cell_type": "markdown",
   "id": "db05f935",
   "metadata": {},
   "source": [
    "Notice the difference from when we type `datasets summary genome taxon formicidae --help`  \n"
   ]
  },
  {
   "cell_type": "code",
   "execution_count": null,
   "id": "a09930dd",
   "metadata": {
    "scrolled": true
   },
   "outputs": [],
   "source": [
    "%%bash\n",
    "    datasets summary genome taxon formicidae --help"
   ]
  },
  {
   "cell_type": "markdown",
   "id": "d3214ca5",
   "metadata": {},
   "source": [
    "### Exercises:"
   ]
  },
  {
   "cell_type": "markdown",
   "id": "d8f07c38",
   "metadata": {},
   "source": [
    "Now let's use `datasets` and `jq` to take a look at the available genomes for your taxon of interest. Use our [jq cheatsheet](https://github.com/ncbi/datasets/blob/workshop-cshl-2021/training/cshl-2021/jq_cheatsheet.md) to look at the available fields and look for the information you need. Some ideas: \n",
    "- how many genomes are available?\n",
    "- What's the contig N50?\n"
   ]
  },
  {
   "cell_type": "code",
   "execution_count": null,
   "id": "b0729b5c",
   "metadata": {},
   "outputs": [],
   "source": [
    "%%bash\n",
    "\n"
   ]
  },
  {
   "cell_type": "code",
   "execution_count": null,
   "id": "d2fd9da8",
   "metadata": {},
   "outputs": [],
   "source": [
    "%%bash\n",
    "\n"
   ]
  },
  {
   "cell_type": "code",
   "execution_count": null,
   "id": "c75eb8b6",
   "metadata": {},
   "outputs": [],
   "source": [
    "%%bash\n",
    "\n"
   ]
  },
  {
   "cell_type": "markdown",
   "id": "c8bdd31c",
   "metadata": {},
   "source": [
    "⬆︎[back to top](#top)"
   ]
  },
  {
   "cell_type": "markdown",
   "id": "92c031a1",
   "metadata": {},
   "source": [
    "## Getting a list of gene-ids per species <a class=\"anchor\" id=\"geneids\"></a>"
   ]
  },
  {
   "cell_type": "markdown",
   "id": "5b4d055b",
   "metadata": {},
   "source": [
    "Independent of choosing `datasets download` or `datasets summary`, there are three options for retrieving gene information: <i>accession</i>, <i>gene-id</i>, and <i>symbol</i>.  \n",
    "\n",
    "When choosing any of those three options, you will retrieve the gene information for the **reference** taxon. Like this:\n",
    "\n",
    "`datasets download gene accession XR_002738142.1`  \n",
    "`datasets download gene gene-id 101081937`  \n",
    "`datasets download gene symbol BRCA1 --taxon cat`  \n",
    "\n",
    "All three commands will download the same gene from the cat (<i>Felis catus</i>) <u>reference genome</u>. \n",
    "\n",
    "- **accession**: Unique identifier. Accession includes RefSeq RNA and protein accessions. Since it's unique, taxon is implied (aka there will never be two sequences from different taxa with the same accession number).  \n",
    "\n",
    "- **gene-id**: Also a unique identifier. Every RefSeq genome annotated has a unique set of identifiers. For example: the gene-id for BRCA1 in human is 672, while in cat is 101081937.  \n",
    "\n",
    "- **symbol**: Differently from accession and gene-id, gene symbol is not unique and means different things in different taxonomic groups. If using the symbol option, you should specify the species. The default option is human.\n",
    "\n",
    "**Remember**: both `summary` and `download` will return results for the **reference assembly** of a <u>single species</u>. If you want to download a curated set of the same gene for multiple taxa, you should use the option `ortholog`. We'll talk more about it later. For reference, here's the JSON organization of the gene summary metadata. "
   ]
  },
  {
   "cell_type": "markdown",
   "id": "4b8c4f1b",
   "metadata": {},
   "source": [
    "### Now let's take a look at a gene example:\n",
    "\n",
    "<img src=\"./images/gene_json_gene-id.png\" />"
   ]
  },
  {
   "cell_type": "markdown",
   "id": "5196c345",
   "metadata": {},
   "source": [
    "We want to extract a list of gene-ids for *Drosophila melanogaster* (tax-id 7227). We will use that list later to download ortholog sets for each gene-id. Here, we will invoke the command `summary` and pipe the JSON output to `jq` to extract the complete list of gene-ids for that species.   \n",
    "If you look in the figure above and follow the numbers in the command below, you'll understand better how to build a `jq` filtering command."
   ]
  },
  {
   "cell_type": "code",
   "execution_count": null,
   "id": "6e2b6fe8",
   "metadata": {},
   "outputs": [],
   "source": [
    "%%bash\n",
    "# Get list of gene-ids for D. melanogaster and save as a txt file\n",
    "\n",
    "                                             #1     #2    #3\n",
    "datasets summary gene taxon 7227 | jq -r '.genes[].gene.gene_id' > dmel_gene-ids.txt\n"
   ]
  },
  {
   "cell_type": "markdown",
   "id": "210dffb7",
   "metadata": {},
   "source": [
    "Let's take a quick look at how many genes are annotated in <i>D. melanogaster</i>."
   ]
  },
  {
   "cell_type": "code",
   "execution_count": null,
   "id": "e748073a",
   "metadata": {},
   "outputs": [],
   "source": [
    "%%bash\n",
    "# Count the number of lines (genes) in the list\n",
    "\n",
    "wc -l dmel_gene-ids.txt"
   ]
  },
  {
   "cell_type": "markdown",
   "id": "b91c446c",
   "metadata": {},
   "source": [
    "### Exercises"
   ]
  },
  {
   "cell_type": "markdown",
   "id": "cb007c4d",
   "metadata": {},
   "source": [
    "Choose another species and look for the number of genes annotated in it. Hint: you can pipe the `wc -l` command (count number of lines) after the `jq` command that extracts the gene-ids. "
   ]
  },
  {
   "cell_type": "code",
   "execution_count": null,
   "id": "a0d7464a",
   "metadata": {},
   "outputs": [],
   "source": [
    "%%bash\n",
    "\n",
    "\n"
   ]
  },
  {
   "cell_type": "markdown",
   "id": "3bd53d3f",
   "metadata": {},
   "source": [
    "⬆︎[back to top](#top)"
   ]
  },
  {
   "cell_type": "markdown",
   "id": "c908cc8b",
   "metadata": {},
   "source": [
    "## Accessing orthologs <a class=\"anchor\" id=\"orthologs\"></a>\n",
    "\n",
    "### Orthologs\n",
    "\n",
    "The options to retrieve ortholog sets are the same as those for genes. We'll go over the differences when using each option: <i>accession</i>, <i>gene-id</i>, and <i>symbol</i>.   \n",
    "\n",
    "When choosing any of those three options, you will download the **full ortholog set** to which they belong (unless you use additional filtering. We'll cover it below). Like this:\n",
    "\n",
    "`datasets download ortholog accession XR_002738142.1`  \n",
    "`datasets download ortholog gene-id 101081937`  \n",
    "`datasets download ortholog symbol BRCA1 --taxon cat`  \n",
    "\n",
    "All three commands will download the **same** ortholog set. \n",
    "\n",
    "---\n",
    "\n",
    "#### <font color='blue'>Wait, but what is an ortholog set?</font>\n",
    "\n",
    ">An ortholog set, or ortholog gene group, is a group of sequences that have been identified by the NCBI genome annotation team as homologous genes related to each other by speciation events. They are identified by a combination of protein similarity + local syntheny information. \n",
    "Currently, NCBI has ortholog sets calculated for vertebrates and some insects. \n",
    "---\n",
    "\n",
    "- **accession**: Unique identifier. Accession includes RefSeq accession RNA and protein sequences. Since it's unique, taxon is implied (aka there will never be two sequences from different taxa with the same accession number).\n",
    "\n",
    "- **gene-id**:  Also an unique identifier. Every RefSeq genome annotated has a unique set of identifiers. For example: the gene-id for BRCA1 in human is 672, while in cat is 101081937. You can use either one (672 or 101081937) to get the same vertebrate BRCA1 ortholog set.\n",
    "\n",
    "- **symbol**: Differently from accession and gene-id, gene symbol is not unique and means different things in different taxonomic groups. For example: the P53 ortholog set in vertebrates is different from the insect set. If using the symbol option, you should specify the taxonomic group. The default option is human. Note that if you want ortholog sets from multiple vertebrate species, you might end up downloading the same ortholog set multiple times. Like this: \n",
    "\n",
    "`datasets download ortholog symbol brca1 --taxon cat`  \n",
    "`datasets download ortholog symbol brca1 --taxon chicken`  \n",
    "`datasets download ortholog symbol brca1 --taxon \"chelonia mydas\"`  \n",
    "\n",
    "If that's the case, how do you filter the ortholog set to include *only* your taxonomic group of interest?\n",
    "\n",
    "### Applying a taxonomic filter to the ortholog set\n",
    "\n",
    "For the orthologs, `datasets` provides the flag `--taxon-filter`, which allows the user to restrict the summary or download to one or multiple taxonomic groups.  `--taxon` and `--taxon-filter` have different effects on the data package/summary output. A few examples:\n",
    "\n",
    "- `datasets summary ortholog symbol brca1 --taxon-filter \"felis catus\"`  \n",
    "Prints a json metadata summary of the gene brca1 for the domestic cat. \n",
    "We did not specify a `--taxon` because the default is human, and Felidae and human are part of the same brca1 ortholog set.   \n",
    "\n",
    "  \n",
    "\n",
    "- `datasets summary ortholog symbol brca1 --taxon \"felis catus\"`  \n",
    "Even though this option looks almost the same as the one above, the result is *very different*. Here, we're asking `datasets` to find the ortholog set to which the gene brca1 in the domestic cat belongs. And `datasets` will download the <u>entire</u> ortholog set, not only the sequences for the domestic cat.\n",
    "\n",
    "\n",
    "- `datasets summary ortholog symbol brca1 --taxon \"felis catus\" --taxon-filter \"felis catus\"`  \n",
    "gives you the same result as `datasets summary ortholog symbol brca1 --taxon-filter \"felis catus\"`\n",
    "\n",
    "\n",
    "The summary metadata for orthologs is presented in JSON Lines, which means that each gene entry is in a different line. Here's the diagram to help you create queries.\n",
    "  \n",
    "<img src=\"./images/ortholog_jsonl.drawio.png\" />"
   ]
  },
  {
   "cell_type": "markdown",
   "id": "3673c066",
   "metadata": {},
   "source": [
    "#### We are going to do the following steps:\n",
    "- Use a loop to download an ortholog data package for each gene-id in the list. Since the list is too long, let's try to download only the first 20 gene-ids from the list.\n",
    "- Unzip it to the folder ortholog\n",
    "- Look at the files"
   ]
  },
  {
   "cell_type": "code",
   "execution_count": null,
   "id": "4040acda",
   "metadata": {},
   "outputs": [],
   "source": [
    "%%bash\n",
    "# download an ortholog data package per gene-id. We will be using a reduced set (`head -n20`) as example:\n",
    "\n",
    "rm -rf orthologs; #if the folder orthologs exist, remove it.\n",
    "mkdir orthologs; # create the folder orthologs.\n",
    "\n",
    "head -n 20 dmel_gene-ids.txt | while read GENEID; do\n",
    "    echo ${GENEID}; \n",
    "    datasets download ortholog gene-id \"${GENEID}\" \\\n",
    "    --include-cds \\\n",
    "    --filename ./orthologs/$GENEID.zip \\\n",
    "    --taxon-filter 7215 --no-progressbar \\\n",
    "    2> /dev/null \\\n",
    "    || echo \"No orthologs found.\"\n",
    "done"
   ]
  },
  {
   "cell_type": "markdown",
   "id": "90bf835c",
   "metadata": {},
   "source": [
    "If you look at the output above, you will notice not all gene-ids were part of ortholog sets (`Error: no valid NCBI gene identifiers, exiting`). Let's check the number of ortholog sets downloaded."
   ]
  },
  {
   "cell_type": "code",
   "execution_count": null,
   "id": "c295a289",
   "metadata": {},
   "outputs": [],
   "source": [
    "%%bash\n",
    "\n",
    "ls orthologs"
   ]
  },
  {
   "cell_type": "markdown",
   "id": "7c0dec6d",
   "metadata": {},
   "source": [
    "Now, let's unzip one of those data packages and check its content:"
   ]
  },
  {
   "cell_type": "code",
   "execution_count": null,
   "id": "f1498b28",
   "metadata": {},
   "outputs": [],
   "source": [
    "%%bash\n",
    "\n",
    "unzip orthologs/10178777.zip -d 10178777"
   ]
  },
  {
   "cell_type": "markdown",
   "id": "36220de8",
   "metadata": {},
   "source": [
    "Let's use the command `tree` to check the folder hierarchy in a easier way."
   ]
  },
  {
   "cell_type": "code",
   "execution_count": null,
   "id": "ee7073d6",
   "metadata": {},
   "outputs": [],
   "source": [
    "%%bash\n",
    "tree 10178777/"
   ]
  },
  {
   "cell_type": "markdown",
   "id": "c6a14b88",
   "metadata": {},
   "source": [
    "The in the `data`folder, you will find all files: data and metadata files:\n",
    "- FASTA sequences (CDS, gene, protein and RNA); \n",
    "- `data_report.jsonl`: metadata file describing the genes included in the data package. \n",
    "- `dataset_catalog.json`: lists all files included in the data package\n",
    "- `data_table`: TSV file with a subset of the metadata from the `data_report.jsonl`\n",
    "\n",
    "In the next section, we will take a closer look at the metadata files. "
   ]
  },
  {
   "cell_type": "markdown",
   "id": "ee145803",
   "metadata": {},
   "source": [
    "⬆︎[back to top](#top)"
   ]
  },
  {
   "cell_type": "markdown",
   "id": "299dc9d9",
   "metadata": {},
   "source": [
    "## Accessing metadata<a class=\"anchor\" id=\"metadata\"></a>"
   ]
  },
  {
   "cell_type": "markdown",
   "id": "dd676b9b",
   "metadata": {},
   "source": [
    "For the JSON-Lines metadata files included with the data packages, you have the option of using `dataformat` instead of `jq` to extract metadata information. `dataformat`is a `datasets`companion tool and it allows you to export metadata information to tabular or Excel format. We are working to make `dataformat` compatible with all `datasets summary` command options (currently, it works only with `datasets summary virus`).\n",
    "\n",
    "Here, we will use `dataformat` to extract the following info from each ortholog data package: organism, accession, CDS range start and CDS range end. You can find more info about the `dataformat`fields for gene in [our documentation page](https://www.ncbi.nlm.nih.gov/datasets/docs/v1/reference-docs/command-line/dataformat/tsv/dataformat_tsv_gene/)"
   ]
  },
  {
   "cell_type": "code",
   "execution_count": null,
   "id": "22330aa1",
   "metadata": {},
   "outputs": [],
   "source": [
    "!dataformat tsv gene \\\n",
    "--package orthologs/10178777.zip \\\n",
    "--fields tax-name,genomic-range-accession,genomic-range-range-start,genomic-range-range-stop |\\\n",
    "column -t -s$'\\t' #added to align all the columns and make the visualization easier. But not really needed."
   ]
  },
  {
   "cell_type": "markdown",
   "id": "29dc59a7",
   "metadata": {},
   "source": [
    "If we prefer to use `jq`, here's how to achieve the same result."
   ]
  },
  {
   "cell_type": "code",
   "execution_count": null,
   "id": "c881cce4",
   "metadata": {},
   "outputs": [],
   "source": [
    "%%bash\n",
    "\n",
    "cat 10178777/ncbi_dataset/data/data_report.jsonl | jq -r '[.taxname,\n",
    ".genomicRanges[].accessionVersion,\n",
    ".genomicRanges[].range[].begin,\n",
    ".genomicRanges[].range[].end] | @tsv'"
   ]
  },
  {
   "cell_type": "markdown",
   "id": "65df2eb4",
   "metadata": {},
   "source": [
    "Useful tip: if you want to extract a list of all fields from any JSON file, you can use the code in the cell below. Notice that the field names are missing a period (\".\") in the beginning, so don't forget to add that when you use the info from this list.\n",
    "\n",
    "\n",
    "Modified from here: https://www.fabian-keller.de/blog/5-useful-jq-commands-parse-json-cli/"
   ]
  },
  {
   "cell_type": "code",
   "execution_count": null,
   "id": "7df3f262",
   "metadata": {},
   "outputs": [],
   "source": [
    "%%bash\n",
    "\n",
    "cat 10178777/ncbi_dataset/data/data_report.jsonl | jq 'select(objects)|=[.] \n",
    "        | map( paths(scalars) ) \n",
    "        | map( map(select(numbers)=\"[]\") \n",
    "        | join(\".\"))' | sort | uniq | sed 's/\\.\\[/\\[/g'"
   ]
  },
  {
   "cell_type": "markdown",
   "id": "1f95cc06",
   "metadata": {},
   "source": [
    "### Exercises"
   ]
  },
  {
   "cell_type": "markdown",
   "id": "5fda7d24",
   "metadata": {},
   "source": [
    "Use `dataformat` to extract metadata from another data package. Remember that `dataformat` accepts both zip packages (`--package`) and data reports (`--inputfile`) as inputs, so no need to unzip anything.  \n",
    "\n",
    "Also, instead of using `%%bash`, please use an exclamation mark `!` in front of the command."
   ]
  },
  {
   "cell_type": "code",
   "execution_count": null,
   "id": "8c37525c",
   "metadata": {},
   "outputs": [],
   "source": [
    "!dataformat \n",
    "\n"
   ]
  },
  {
   "cell_type": "markdown",
   "id": "acadb3e0",
   "metadata": {},
   "source": [
    "⬆︎[back to top](#top)"
   ]
  },
  {
   "cell_type": "markdown",
   "id": "a1f40eb0",
   "metadata": {},
   "source": [
    "## Reading sequence data<a class=\"anchor\" id=\"sequence\"></a>"
   ]
  },
  {
   "cell_type": "markdown",
   "id": "8925e624",
   "metadata": {},
   "source": [
    "We will now download coding region sequences for orthologs in 37 Drosophila species.\n",
    "We will save the data packages to `datadir`:"
   ]
  },
  {
   "cell_type": "code",
   "execution_count": null,
   "id": "a68f6fb0",
   "metadata": {},
   "outputs": [],
   "source": [
    "datadir = \"../data/orthologs\""
   ]
  },
  {
   "cell_type": "markdown",
   "id": "4b52a11c",
   "metadata": {},
   "source": [
    "We won't have time to download all 13,000 orthologs, so we'll limit ourselves to a subset. The parameter `num_gids` sets the number of gene IDs to attempt to download (only about half will have orthologs). 1000 packages should take about 5 minutes to download"
   ]
  },
  {
   "cell_type": "code",
   "execution_count": null,
   "id": "8417de04",
   "metadata": {},
   "outputs": [],
   "source": [
    "num_gids = 1000"
   ]
  },
  {
   "cell_type": "code",
   "execution_count": null,
   "id": "1482a839",
   "metadata": {},
   "outputs": [],
   "source": [
    "%%time\n",
    "%%bash -s \"$datadir\" \"$num_gids\"\n",
    "mkdir -p $1\n",
    "head -n $2 dmel_gene-ids.txt | while read GENEID; do \n",
    "        echo GID: ${GENEID};\n",
    "        datasets download ortholog gene-id \"${GENEID}\" \\\n",
    "            --filename $1/$GENEID.zip \\\n",
    "            --taxon-filter 7215 \\\n",
    "            --include-cds \\\n",
    "            --exclude-gene \\\n",
    "            --exclude-protein \\\n",
    "            --exclude-rna \\\n",
    "            --no-progressbar \\\n",
    "            2> /dev/null \\\n",
    "            || echo \"No orthologs found.\"\n",
    "        done"
   ]
  },
  {
   "cell_type": "code",
   "execution_count": null,
   "id": "040f69ea",
   "metadata": {},
   "outputs": [],
   "source": [
    "!tree $datadir"
   ]
  },
  {
   "cell_type": "code",
   "execution_count": null,
   "id": "166a0f74",
   "metadata": {},
   "outputs": [],
   "source": [
    "!du -sh $datadir"
   ]
  },
  {
   "cell_type": "code",
   "execution_count": null,
   "id": "92b1c26d",
   "metadata": {},
   "outputs": [],
   "source": [
    "!ls $datadir | wc -l"
   ]
  },
  {
   "cell_type": "markdown",
   "id": "a4dd32ae",
   "metadata": {},
   "source": [
    "We read the fasta files using BioPython's SeqIO module:"
   ]
  },
  {
   "cell_type": "code",
   "execution_count": null,
   "id": "06a25588",
   "metadata": {},
   "outputs": [],
   "source": [
    "def import_fasta(gene_id, datadir):\n",
    "    dataset = f\"{datadir}/{gene_id}.zip\"\n",
    "    fasta_path = \"ncbi_dataset/data/cds.fna\"\n",
    "    with ZipFile(dataset) as zip_file:\n",
    "        with zip_file.open(fasta_path, \"r\") as fasta_file:\n",
    "            records = list(SeqIO.parse(io.TextIOWrapper(fasta_file), \"fasta\"))\n",
    "    return(records)"
   ]
  },
  {
   "cell_type": "code",
   "execution_count": null,
   "id": "97fe606d",
   "metadata": {},
   "outputs": [],
   "source": [
    "gene_id = 10178781\n",
    "records = import_fasta(gene_id, datadir)"
   ]
  },
  {
   "cell_type": "markdown",
   "id": "b5100227",
   "metadata": {},
   "source": [
    "Let's take a look at the records we've imported:"
   ]
  },
  {
   "cell_type": "code",
   "execution_count": null,
   "id": "69cc3c67",
   "metadata": {},
   "outputs": [],
   "source": [
    "for rec in records:\n",
    "    print(rec)"
   ]
  },
  {
   "cell_type": "markdown",
   "id": "6ac85515",
   "metadata": {},
   "source": [
    "Notice that we have multiple records for some species. We want to take just one per species, so we'll choose the longest.\n",
    "\n",
    "First we need to extract the species names from the records:"
   ]
  },
  {
   "cell_type": "code",
   "execution_count": null,
   "id": "51d53dd2",
   "metadata": {},
   "outputs": [],
   "source": [
    "def get_species(record):\n",
    "    pattern = re.compile(r\"\\[organism=([A-Za-z\\s]+)\\]\")\n",
    "    match = re.search(pattern, record.description)\n",
    "    if match:\n",
    "        return match.groups()[0]\n",
    "    else:\n",
    "        return None"
   ]
  },
  {
   "cell_type": "code",
   "execution_count": null,
   "id": "b6010c6e",
   "metadata": {},
   "outputs": [],
   "source": [
    "for record in records:\n",
    "    print(get_species(record))"
   ]
  },
  {
   "cell_type": "markdown",
   "id": "ae44d84a",
   "metadata": {},
   "source": [
    "Now we can group the records by species and take the longest:"
   ]
  },
  {
   "cell_type": "code",
   "execution_count": null,
   "id": "da21fe2f",
   "metadata": {},
   "outputs": [],
   "source": [
    "def longest_record_per_species(records):\n",
    "    return {\n",
    "        species: max(recs, key=lambda r: len(r.seq))\n",
    "        for species, recs in groupby(records, key=get_species)\n",
    "    }"
   ]
  },
  {
   "cell_type": "code",
   "execution_count": null,
   "id": "3df5453f",
   "metadata": {},
   "outputs": [],
   "source": [
    "dna_records = longest_record_per_species(records)"
   ]
  },
  {
   "cell_type": "code",
   "execution_count": null,
   "id": "3094622d",
   "metadata": {},
   "outputs": [],
   "source": [
    "for spec, rec in dna_records.items():\n",
    "    print(spec)\n",
    "    print(rec)\n",
    "    print()"
   ]
  },
  {
   "cell_type": "markdown",
   "id": "bd0b4b9f",
   "metadata": {},
   "source": [
    "⬆︎[back to top](#top)"
   ]
  },
  {
   "cell_type": "markdown",
   "id": "95960824",
   "metadata": {},
   "source": [
    "## Making a sequence alignment<a class=\"anchor\" id=\"alignment\"></a>"
   ]
  },
  {
   "cell_type": "markdown",
   "id": "b210d476",
   "metadata": {},
   "source": [
    "Now we need to make a sequence alignment. We need it to be codon-aware, so we'll align the protein sequences and then apply the alignment to the sequences."
   ]
  },
  {
   "cell_type": "code",
   "execution_count": null,
   "id": "5b20e8ba",
   "metadata": {},
   "outputs": [],
   "source": [
    "def translate_record(record):\n",
    "    new_record = copy(record)\n",
    "    new_record.seq = record.seq.translate()\n",
    "    return new_record"
   ]
  },
  {
   "cell_type": "code",
   "execution_count": null,
   "id": "7393a817",
   "metadata": {},
   "outputs": [],
   "source": [
    "protein_records = {spec: translate_record(rec) for spec, rec in dna_records.items()}"
   ]
  },
  {
   "cell_type": "code",
   "execution_count": null,
   "id": "04e115e7",
   "metadata": {},
   "outputs": [],
   "source": [
    "for spec, rec in protein_records.items():\n",
    "    print(spec)\n",
    "    print(rec)\n",
    "    print()"
   ]
  },
  {
   "cell_type": "code",
   "execution_count": null,
   "id": "c667aaeb",
   "metadata": {},
   "outputs": [],
   "source": [
    "def align_proteins(protein_records):\n",
    "    muscle_exe = \"../bin/muscle3.8.31_i86linux64\"\n",
    "    with tempfile.NamedTemporaryFile(mode=\"w+t\") as f:\n",
    "        SeqIO.write(protein_records.values(), f, \"fasta\")\n",
    "        f.seek(0)\n",
    "        muscle_cline = MuscleCommandline(muscle_exe, input=f.name)\n",
    "        stdout, stderr = muscle_cline()\n",
    "    protein_aln = AlignIO.read(io.StringIO(stdout), \"fasta\")\n",
    "    protein_aln.sort()\n",
    "    return(protein_aln)"
   ]
  },
  {
   "cell_type": "code",
   "execution_count": null,
   "id": "333798bb",
   "metadata": {},
   "outputs": [],
   "source": [
    "protein_aln = align_proteins(protein_records)\n",
    "print(protein_aln[:,50:60])"
   ]
  },
  {
   "cell_type": "code",
   "execution_count": null,
   "id": "ff57b59e",
   "metadata": {},
   "outputs": [],
   "source": [
    "codon_aln = codonalign.build(protein_aln, sorted(dna_records.values(), key=lambda x: x.id))"
   ]
  },
  {
   "cell_type": "code",
   "execution_count": null,
   "id": "e80cca43",
   "metadata": {},
   "outputs": [],
   "source": [
    "print(codon_aln[:,150:180])"
   ]
  },
  {
   "cell_type": "markdown",
   "id": "ff64f3db",
   "metadata": {},
   "source": [
    "⬆︎[back to top](#top)"
   ]
  },
  {
   "cell_type": "markdown",
   "id": "3398cfe8",
   "metadata": {},
   "source": [
    "## Counting substitutions<a class=\"anchor\" id=\"substitutions\"></a>"
   ]
  },
  {
   "cell_type": "markdown",
   "id": "f2f9d7cd",
   "metadata": {},
   "source": [
    "Now we can use our alignments to count substitutions. In a real application we'd use a sophisticated model to take multiple mutations at the same site or codon into account. Here we'll do a quick version where we count:\n",
    "- Amino acid substitutions as non-synonymous mutations\n",
    "- All other single-basepair substitutions as synonymous mutations"
   ]
  },
  {
   "cell_type": "code",
   "execution_count": null,
   "id": "61450b7d",
   "metadata": {},
   "outputs": [],
   "source": [
    "def number_of_substitutions(alignment) -> float:\n",
    "    sub_matrix = alignment.substitutions\n",
    "    return sub_matrix.sum() - sub_matrix.diagonal().sum()"
   ]
  },
  {
   "cell_type": "code",
   "execution_count": null,
   "id": "9189877f",
   "metadata": {},
   "outputs": [],
   "source": [
    "total_subs = number_of_substitutions(codon_aln)\n",
    "nonsyn_subs = number_of_substitutions(protein_aln)\n",
    "syn_subs = total_subs - nonsyn_subs\n",
    "dnds = nonsyn_subs / syn_subs"
   ]
  },
  {
   "cell_type": "code",
   "execution_count": null,
   "id": "ecb19b64",
   "metadata": {
    "scrolled": true
   },
   "outputs": [],
   "source": [
    "print(total_subs)\n",
    "print(nonsyn_subs)\n",
    "print(syn_subs)\n",
    "print(dnds)"
   ]
  },
  {
   "cell_type": "markdown",
   "id": "f081e7f3",
   "metadata": {},
   "source": [
    "Now we can scale up our analysis and do the same for all the orthologs for several species"
   ]
  },
  {
   "cell_type": "code",
   "execution_count": null,
   "id": "d80e925a",
   "metadata": {},
   "outputs": [],
   "source": [
    "files = !ls {datadir}\n",
    "gene_ids = [f.split(\".\")[0] for f in files]"
   ]
  },
  {
   "cell_type": "code",
   "execution_count": null,
   "id": "1a531f0b",
   "metadata": {},
   "outputs": [],
   "source": [
    "def count_substitutions(gene_id, datadir, species1, species2):\n",
    "    records = import_fasta(gene_id, datadir)\n",
    "    longest_records = longest_record_per_species(records)\n",
    "    if species1 in longest_records and species2 in longest_records:\n",
    "        dna_records = {\n",
    "            species1: longest_records[species1],\n",
    "            species2: longest_records[species2],\n",
    "        }\n",
    "    else:\n",
    "        return None\n",
    "    protein_records = {spec: translate_record(rec) for spec, rec in dna_records.items()}\n",
    "    protein_aln = align_proteins(protein_records)\n",
    "    try:\n",
    "        codon_aln = codonalign.build(protein_aln,\n",
    "                                     sorted(dna_records.values(),\n",
    "                                            key=lambda x: x.id))\n",
    "    except RuntimeError as e:\n",
    "        print(e)\n",
    "        return None\n",
    "    total_subs = number_of_substitutions(codon_aln)\n",
    "    nonsyn_subs = number_of_substitutions(protein_aln)\n",
    "    syn_subs = total_subs - nonsyn_subs\n",
    "    return nonsyn_subs, syn_subs"
   ]
  },
  {
   "cell_type": "code",
   "execution_count": null,
   "id": "a4ec6f7c",
   "metadata": {
    "scrolled": true
   },
   "outputs": [],
   "source": [
    "substitutions = {}\n",
    "focal_species = \"Drosophila melanogaster\"\n",
    "comparison_species = [\"Drosophila pseudoobscura\", \"Drosophila serrata\", \"Drosophila simulans\", \"Drosophila arizonae\"]\n",
    "for comp in comparison_species:\n",
    "    print(comp)\n",
    "    substitutions[comp] = {}\n",
    "    for i, gene_id in enumerate(gene_ids):\n",
    "        print(i, gene_id)\n",
    "        subs = count_substitutions(gene_id, datadir, focal_species, comp)\n",
    "        if subs:\n",
    "            substitutions[comp][gene_id] = subs"
   ]
  },
  {
   "cell_type": "code",
   "execution_count": null,
   "id": "c0b8615e",
   "metadata": {},
   "outputs": [],
   "source": [
    "for comp in comparison_species:\n",
    "    for nonsyn_subs, syn_subs in substitutions[comp].values():\n",
    "        plt.loglog(syn_subs, nonsyn_subs, '.b', alpha=0.25)\n",
    "    plt.loglog([1,1000],[1,1000], '--k')\n",
    "    plt.title(comp)\n",
    "    plt.show()"
   ]
  },
  {
   "cell_type": "markdown",
   "id": "60f824f9",
   "metadata": {},
   "source": [
    "⬆︎[back to top](#top)"
   ]
  },
  {
   "cell_type": "markdown",
   "id": "8223e0ee",
   "metadata": {},
   "source": [
    "## Adjusting for codon usage<a class=\"anchor\" id=\"codons\"></a>"
   ]
  },
  {
   "cell_type": "markdown",
   "id": "c8f1e52c",
   "metadata": {},
   "source": [
    "We haven't yet adjusted for codon usage. In this section, we'll use the genetic code to figure out how many synonymous and nonsynoymous substitutions we'd expect to see for each gene."
   ]
  },
  {
   "cell_type": "code",
   "execution_count": null,
   "id": "ecec7f92",
   "metadata": {},
   "outputs": [],
   "source": [
    "bases = set([\"A\", \"C\", \"G\", \"T\"])\n",
    "for comb in product(bases, repeat=3):\n",
    "    s = Seq(\"\".join(comb))\n",
    "    print(s, \"->\", s.translate())"
   ]
  },
  {
   "cell_type": "code",
   "execution_count": null,
   "id": "8a3f574f",
   "metadata": {},
   "outputs": [],
   "source": [
    "codons = (Seq(\"\".join(b)) for b in product(bases, repeat=3))\n",
    "genetic_code = {\n",
    "    codon: codon.translate()\n",
    "    for codon in codons\n",
    "    if codon.translate() != Seq(\"*\")\n",
    "}"
   ]
  },
  {
   "cell_type": "code",
   "execution_count": null,
   "id": "10396c07",
   "metadata": {},
   "outputs": [],
   "source": [
    "def count_differences(codon1, codon2):\n",
    "    return sum(b1 != b2 for b1, b2 in zip(codon1, codon2))\n",
    "\n",
    "nonsyn_counts = Counter()\n",
    "syn_counts = Counter()\n",
    "for codon1, codon2 in combinations(genetic_code, 2):\n",
    "    if count_differences(codon1, codon2) == 1:\n",
    "        if genetic_code[codon1] == genetic_code[codon2]:\n",
    "            syn_counts[codon1] += 1\n",
    "            syn_counts[codon2] += 1\n",
    "        else:\n",
    "            nonsyn_counts[codon1] += 1\n",
    "            nonsyn_counts[codon2] += 1"
   ]
  },
  {
   "cell_type": "code",
   "execution_count": null,
   "id": "e22189b2",
   "metadata": {},
   "outputs": [],
   "source": [
    "for codon in genetic_code:\n",
    "    print(codon, nonsyn_counts[codon], syn_counts[codon])"
   ]
  },
  {
   "cell_type": "code",
   "execution_count": null,
   "id": "74e09d32",
   "metadata": {},
   "outputs": [],
   "source": [
    "nonsyn_total = sum(nonsyn_counts.values())\n",
    "syn_total = sum(syn_counts.values())\n",
    "print(nonsyn_total / syn_total)"
   ]
  },
  {
   "cell_type": "code",
   "execution_count": null,
   "id": "b6129795",
   "metadata": {},
   "outputs": [],
   "source": [
    "def expected_dnds(seq, nonsyn_counts, syn_counts):\n",
    "    nonsyn = 0\n",
    "    syn = 0\n",
    "    for i in range(0, len(seq), 3):\n",
    "        codon = seq[i:i+3]\n",
    "        try:\n",
    "            nonsyn += nonsyn_counts[codon]\n",
    "            syn += syn_counts[codon]\n",
    "        except KeyError:\n",
    "            return None\n",
    "    return nonsyn / syn"
   ]
  },
  {
   "cell_type": "code",
   "execution_count": null,
   "id": "cadcb8ea",
   "metadata": {},
   "outputs": [],
   "source": [
    "focal_species = \"Drosophila melanogaster\"\n",
    "expectations = {}\n",
    "for gene_id in gene_ids:\n",
    "    records = import_fasta(gene_id, datadir)\n",
    "    longest_records = longest_record_per_species(records)\n",
    "    if focal_species not in longest_records:\n",
    "        continue\n",
    "    seq = longest_records[focal_species].seq\n",
    "    expectations[gene_id] = expected_dnds(seq, nonsyn_counts, syn_counts)"
   ]
  },
  {
   "cell_type": "code",
   "execution_count": null,
   "id": "2c69997e",
   "metadata": {},
   "outputs": [],
   "source": [
    "plt.hist(expectations.values())"
   ]
  },
  {
   "cell_type": "code",
   "execution_count": null,
   "id": "5221d9d4",
   "metadata": {},
   "outputs": [],
   "source": [
    "omega = {comp: dict() for comp in comparison_species}\n",
    "for comp in comparison_species:\n",
    "    for gene_id, (nonsyn_subs, syn_subs) in substitutions[comp].items():\n",
    "        dnds_obs = nonsyn_subs / syn_subs\n",
    "        dnds_exp = expectations[gene_id]\n",
    "        omega[comp][gene_id] = dnds_obs / dnds_exp"
   ]
  },
  {
   "cell_type": "code",
   "execution_count": null,
   "id": "6a9aa2c0",
   "metadata": {},
   "outputs": [],
   "source": [
    "for comp in comparison_species:\n",
    "    plt.hist(omega[comp].values(), bins=np.arange(0,2.0,0.1))\n",
    "    plt.title(comp)\n",
    "    plt.show()"
   ]
  },
  {
   "cell_type": "markdown",
   "id": "4c6092e9",
   "metadata": {},
   "source": [
    "## Free time"
   ]
  },
  {
   "cell_type": "markdown",
   "id": "dcd00786",
   "metadata": {},
   "source": [
    "Now you have some time to try things out on your own. Some ideas:\n",
    "1. Look for the highest/lowest dN/dS orthologs and look them up for function.\n",
    "2. Compare different species with different levels of divergence.\n",
    "3. Explore `datasets`"
   ]
  },
  {
   "cell_type": "markdown",
   "id": "28ebea51",
   "metadata": {},
   "source": [
    "⬆︎[back to top](#top)"
   ]
  },
  {
   "cell_type": "markdown",
   "id": "314c84bd",
   "metadata": {},
   "source": [
    "## Where to go now<a class=\"anchor\" id=\"references\"></a>\n",
    "If we've piqued your interest about learning to program for\n",
    "molecular evolution, here are a few resources to keep learning:\n",
    "\n",
    "### This workshop on GitHub\n",
    "\n",
    "You can find the materials for this workshop, including (eventually) a runable version of the notebook,\n",
    "go to: https://github.com/ncbi/workshop-mol-evol-datasets\n",
    "### NCBI Datasets\n",
    "\n",
    "To learn more about the NCBI Datasets tools, you can visit the\n",
    "[Datasets homepage](https://www.ncbi.nlm.nih.gov/datasets/).\n",
    "There is lots of information about the web interface,\n",
    "command line tools, and Python and R libraries.\n",
    "\n",
    "### Drosophila protein evolution\n",
    "\n",
    "[Evolution of genes and genomes on the Drosophila phylogeny, *Nature*, 2007.](https://www.nature.com/articles/nature06341)\n",
    "\n",
    "### Installing Jupyter on your computer\n",
    "\n",
    "If you're ready to take the plunge and install Jupyter on your\n",
    "own computer, there are installation instructions on the\n",
    "[Jupyter project website](https://jupyter.org).\n",
    "\n",
    "\n",
    "### The BioPython package\n",
    "To learn what else you can do with BioPython, you can see their\n",
    "[documentation here](https://biopython.org).\n",
    "Particularly useful are their\n",
    "[tutorial](http://biopython.org/DIST/docs/tutorial/Tutorial.html)\n",
    "and [cookbook](https://biopython.org/wiki/Category%3ACookbook).\n",
    "\n",
    "### Learning Python\n",
    "\n",
    "There are lots of resources online to help you learn Python in more depth.\n",
    "One good place to start is the\n",
    "[Python beginner's guide](https://www.python.org/about/gettingstarted/).\n"
   ]
  },
  {
   "cell_type": "markdown",
   "id": "087d1eae",
   "metadata": {},
   "source": [
    "⬆︎[back to top](#top)"
   ]
  }
 ],
 "metadata": {
  "kernelspec": {
   "display_name": "Python 3 (ipykernel)",
   "language": "python",
   "name": "python3"
  },
  "language_info": {
   "codemirror_mode": {
    "name": "ipython",
    "version": 3
   },
   "file_extension": ".py",
   "mimetype": "text/x-python",
   "name": "python",
   "nbconvert_exporter": "python",
   "pygments_lexer": "ipython3",
   "version": "3.9.13"
  }
 },
 "nbformat": 4,
 "nbformat_minor": 5
}
